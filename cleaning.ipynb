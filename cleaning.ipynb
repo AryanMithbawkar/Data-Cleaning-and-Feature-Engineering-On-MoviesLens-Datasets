{
 "cells": [
  {
   "cell_type": "markdown",
   "id": "58de4ccf",
   "metadata": {},
   "source": [
    "# Data Cleaning and Feature Engineering On MovieLens Dataset"
   ]
  },
  {
   "cell_type": "code",
   "execution_count": 1,
   "id": "fe8b4805",
   "metadata": {},
   "outputs": [],
   "source": [
    "#importing libraries\n",
    "import pandas as pd\n",
    "import numpy as np"
   ]
  },
  {
   "cell_type": "markdown",
   "id": "767c5520",
   "metadata": {},
   "source": [
    "### loading datasets"
   ]
  },
  {
   "cell_type": "code",
   "execution_count": 2,
   "id": "c47910a6",
   "metadata": {},
   "outputs": [
    {
     "name": "stdout",
     "output_type": "stream",
     "text": [
      "<class 'pandas.core.frame.DataFrame'>\n",
      "RangeIndex: 27278 entries, 0 to 27277\n",
      "Data columns (total 3 columns):\n",
      " #   Column   Non-Null Count  Dtype \n",
      "---  ------   --------------  ----- \n",
      " 0   movieId  27278 non-null  int64 \n",
      " 1   title    27278 non-null  object\n",
      " 2   genres   27278 non-null  object\n",
      "dtypes: int64(1), object(2)\n",
      "memory usage: 639.5+ KB\n"
     ]
    }
   ],
   "source": [
    "moviesdf=pd.read_csv('movie.csv')\n",
    "moviesdf=pd.DataFrame(moviesdf)\n",
    "moviesdf.info()"
   ]
  },
  {
   "cell_type": "code",
   "execution_count": 3,
   "id": "44954021",
   "metadata": {},
   "outputs": [
    {
     "data": {
      "text/html": [
       "<div>\n",
       "<style scoped>\n",
       "    .dataframe tbody tr th:only-of-type {\n",
       "        vertical-align: middle;\n",
       "    }\n",
       "\n",
       "    .dataframe tbody tr th {\n",
       "        vertical-align: top;\n",
       "    }\n",
       "\n",
       "    .dataframe thead th {\n",
       "        text-align: right;\n",
       "    }\n",
       "</style>\n",
       "<table border=\"1\" class=\"dataframe\">\n",
       "  <thead>\n",
       "    <tr style=\"text-align: right;\">\n",
       "      <th></th>\n",
       "      <th>movieId</th>\n",
       "      <th>title</th>\n",
       "      <th>genres</th>\n",
       "    </tr>\n",
       "  </thead>\n",
       "  <tbody>\n",
       "    <tr>\n",
       "      <th>0</th>\n",
       "      <td>1</td>\n",
       "      <td>Toy Story (1995)</td>\n",
       "      <td>Adventure|Animation|Children|Comedy|Fantasy</td>\n",
       "    </tr>\n",
       "    <tr>\n",
       "      <th>1</th>\n",
       "      <td>2</td>\n",
       "      <td>Jumanji (1995)</td>\n",
       "      <td>Adventure|Children|Fantasy</td>\n",
       "    </tr>\n",
       "    <tr>\n",
       "      <th>2</th>\n",
       "      <td>3</td>\n",
       "      <td>Grumpier Old Men (1995)</td>\n",
       "      <td>Comedy|Romance</td>\n",
       "    </tr>\n",
       "    <tr>\n",
       "      <th>3</th>\n",
       "      <td>4</td>\n",
       "      <td>Waiting to Exhale (1995)</td>\n",
       "      <td>Comedy|Drama|Romance</td>\n",
       "    </tr>\n",
       "    <tr>\n",
       "      <th>4</th>\n",
       "      <td>5</td>\n",
       "      <td>Father of the Bride Part II (1995)</td>\n",
       "      <td>Comedy</td>\n",
       "    </tr>\n",
       "    <tr>\n",
       "      <th>...</th>\n",
       "      <td>...</td>\n",
       "      <td>...</td>\n",
       "      <td>...</td>\n",
       "    </tr>\n",
       "    <tr>\n",
       "      <th>27273</th>\n",
       "      <td>131254</td>\n",
       "      <td>Kein Bund für's Leben (2007)</td>\n",
       "      <td>Comedy</td>\n",
       "    </tr>\n",
       "    <tr>\n",
       "      <th>27274</th>\n",
       "      <td>131256</td>\n",
       "      <td>Feuer, Eis &amp; Dosenbier (2002)</td>\n",
       "      <td>Comedy</td>\n",
       "    </tr>\n",
       "    <tr>\n",
       "      <th>27275</th>\n",
       "      <td>131258</td>\n",
       "      <td>The Pirates (2014)</td>\n",
       "      <td>Adventure</td>\n",
       "    </tr>\n",
       "    <tr>\n",
       "      <th>27276</th>\n",
       "      <td>131260</td>\n",
       "      <td>Rentun Ruusu (2001)</td>\n",
       "      <td>(no genres listed)</td>\n",
       "    </tr>\n",
       "    <tr>\n",
       "      <th>27277</th>\n",
       "      <td>131262</td>\n",
       "      <td>Innocence (2014)</td>\n",
       "      <td>Adventure|Fantasy|Horror</td>\n",
       "    </tr>\n",
       "  </tbody>\n",
       "</table>\n",
       "<p>27278 rows × 3 columns</p>\n",
       "</div>"
      ],
      "text/plain": [
       "       movieId                               title  \\\n",
       "0            1                    Toy Story (1995)   \n",
       "1            2                      Jumanji (1995)   \n",
       "2            3             Grumpier Old Men (1995)   \n",
       "3            4            Waiting to Exhale (1995)   \n",
       "4            5  Father of the Bride Part II (1995)   \n",
       "...        ...                                 ...   \n",
       "27273   131254        Kein Bund für's Leben (2007)   \n",
       "27274   131256       Feuer, Eis & Dosenbier (2002)   \n",
       "27275   131258                  The Pirates (2014)   \n",
       "27276   131260                 Rentun Ruusu (2001)   \n",
       "27277   131262                    Innocence (2014)   \n",
       "\n",
       "                                            genres  \n",
       "0      Adventure|Animation|Children|Comedy|Fantasy  \n",
       "1                       Adventure|Children|Fantasy  \n",
       "2                                   Comedy|Romance  \n",
       "3                             Comedy|Drama|Romance  \n",
       "4                                           Comedy  \n",
       "...                                            ...  \n",
       "27273                                       Comedy  \n",
       "27274                                       Comedy  \n",
       "27275                                    Adventure  \n",
       "27276                           (no genres listed)  \n",
       "27277                     Adventure|Fantasy|Horror  \n",
       "\n",
       "[27278 rows x 3 columns]"
      ]
     },
     "execution_count": 3,
     "metadata": {},
     "output_type": "execute_result"
    }
   ],
   "source": [
    "moviesdf"
   ]
  },
  {
   "cell_type": "code",
   "execution_count": 4,
   "id": "2d8f3055",
   "metadata": {},
   "outputs": [
    {
     "name": "stdout",
     "output_type": "stream",
     "text": [
      "<class 'pandas.core.frame.DataFrame'>\n",
      "RangeIndex: 1048575 entries, 0 to 1048574\n",
      "Data columns (total 4 columns):\n",
      " #   Column     Non-Null Count    Dtype  \n",
      "---  ------     --------------    -----  \n",
      " 0   userId     1048575 non-null  int64  \n",
      " 1   movieId    1048575 non-null  int64  \n",
      " 2   rating     1048575 non-null  float64\n",
      " 3   timestamp  1048575 non-null  object \n",
      "dtypes: float64(1), int64(2), object(1)\n",
      "memory usage: 32.0+ MB\n"
     ]
    }
   ],
   "source": [
    "ratingdf=pd.read_csv('rating.csv')\n",
    "ratingdf=pd.DataFrame(ratingdf)\n",
    "ratingdf.info()"
   ]
  },
  {
   "cell_type": "code",
   "execution_count": 5,
   "id": "48d8c6c7",
   "metadata": {},
   "outputs": [
    {
     "data": {
      "text/html": [
       "<div>\n",
       "<style scoped>\n",
       "    .dataframe tbody tr th:only-of-type {\n",
       "        vertical-align: middle;\n",
       "    }\n",
       "\n",
       "    .dataframe tbody tr th {\n",
       "        vertical-align: top;\n",
       "    }\n",
       "\n",
       "    .dataframe thead th {\n",
       "        text-align: right;\n",
       "    }\n",
       "</style>\n",
       "<table border=\"1\" class=\"dataframe\">\n",
       "  <thead>\n",
       "    <tr style=\"text-align: right;\">\n",
       "      <th></th>\n",
       "      <th>userId</th>\n",
       "      <th>movieId</th>\n",
       "      <th>rating</th>\n",
       "      <th>timestamp</th>\n",
       "    </tr>\n",
       "  </thead>\n",
       "  <tbody>\n",
       "    <tr>\n",
       "      <th>0</th>\n",
       "      <td>1</td>\n",
       "      <td>2</td>\n",
       "      <td>3.5</td>\n",
       "      <td>02-04-2005 23:53</td>\n",
       "    </tr>\n",
       "    <tr>\n",
       "      <th>1</th>\n",
       "      <td>1</td>\n",
       "      <td>29</td>\n",
       "      <td>3.5</td>\n",
       "      <td>02-04-2005 23:31</td>\n",
       "    </tr>\n",
       "    <tr>\n",
       "      <th>2</th>\n",
       "      <td>1</td>\n",
       "      <td>32</td>\n",
       "      <td>3.5</td>\n",
       "      <td>02-04-2005 23:33</td>\n",
       "    </tr>\n",
       "    <tr>\n",
       "      <th>3</th>\n",
       "      <td>1</td>\n",
       "      <td>47</td>\n",
       "      <td>3.5</td>\n",
       "      <td>02-04-2005 23:32</td>\n",
       "    </tr>\n",
       "    <tr>\n",
       "      <th>4</th>\n",
       "      <td>1</td>\n",
       "      <td>50</td>\n",
       "      <td>3.5</td>\n",
       "      <td>02-04-2005 23:29</td>\n",
       "    </tr>\n",
       "    <tr>\n",
       "      <th>...</th>\n",
       "      <td>...</td>\n",
       "      <td>...</td>\n",
       "      <td>...</td>\n",
       "      <td>...</td>\n",
       "    </tr>\n",
       "    <tr>\n",
       "      <th>1048570</th>\n",
       "      <td>7120</td>\n",
       "      <td>168</td>\n",
       "      <td>5.0</td>\n",
       "      <td>02-04-2007 19:44</td>\n",
       "    </tr>\n",
       "    <tr>\n",
       "      <th>1048571</th>\n",
       "      <td>7120</td>\n",
       "      <td>253</td>\n",
       "      <td>4.0</td>\n",
       "      <td>02-04-2007 19:30</td>\n",
       "    </tr>\n",
       "    <tr>\n",
       "      <th>1048572</th>\n",
       "      <td>7120</td>\n",
       "      <td>260</td>\n",
       "      <td>5.0</td>\n",
       "      <td>02-04-2007 19:27</td>\n",
       "    </tr>\n",
       "    <tr>\n",
       "      <th>1048573</th>\n",
       "      <td>7120</td>\n",
       "      <td>261</td>\n",
       "      <td>4.0</td>\n",
       "      <td>02-04-2007 19:49</td>\n",
       "    </tr>\n",
       "    <tr>\n",
       "      <th>1048574</th>\n",
       "      <td>7120</td>\n",
       "      <td>266</td>\n",
       "      <td>3.5</td>\n",
       "      <td>02-04-2007 19:34</td>\n",
       "    </tr>\n",
       "  </tbody>\n",
       "</table>\n",
       "<p>1048575 rows × 4 columns</p>\n",
       "</div>"
      ],
      "text/plain": [
       "         userId  movieId  rating         timestamp\n",
       "0             1        2     3.5  02-04-2005 23:53\n",
       "1             1       29     3.5  02-04-2005 23:31\n",
       "2             1       32     3.5  02-04-2005 23:33\n",
       "3             1       47     3.5  02-04-2005 23:32\n",
       "4             1       50     3.5  02-04-2005 23:29\n",
       "...         ...      ...     ...               ...\n",
       "1048570    7120      168     5.0  02-04-2007 19:44\n",
       "1048571    7120      253     4.0  02-04-2007 19:30\n",
       "1048572    7120      260     5.0  02-04-2007 19:27\n",
       "1048573    7120      261     4.0  02-04-2007 19:49\n",
       "1048574    7120      266     3.5  02-04-2007 19:34\n",
       "\n",
       "[1048575 rows x 4 columns]"
      ]
     },
     "execution_count": 5,
     "metadata": {},
     "output_type": "execute_result"
    }
   ],
   "source": [
    "ratingdf"
   ]
  },
  {
   "cell_type": "code",
   "execution_count": 6,
   "id": "6f05a88d",
   "metadata": {},
   "outputs": [
    {
     "name": "stdout",
     "output_type": "stream",
     "text": [
      "<class 'pandas.core.frame.DataFrame'>\n",
      "RangeIndex: 465564 entries, 0 to 465563\n",
      "Data columns (total 4 columns):\n",
      " #   Column     Non-Null Count   Dtype \n",
      "---  ------     --------------   ----- \n",
      " 0   userId     465564 non-null  int64 \n",
      " 1   movieId    465564 non-null  int64 \n",
      " 2   tag        465548 non-null  object\n",
      " 3   timestamp  465564 non-null  object\n",
      "dtypes: int64(2), object(2)\n",
      "memory usage: 14.2+ MB\n"
     ]
    }
   ],
   "source": [
    "tagsdf=pd.read_csv('tag.csv',sep=',')\n",
    "tagsdf=pd.DataFrame(tagsdf)\n",
    "tagsdf.info()"
   ]
  },
  {
   "cell_type": "code",
   "execution_count": 7,
   "id": "bdad2825",
   "metadata": {},
   "outputs": [
    {
     "data": {
      "text/html": [
       "<div>\n",
       "<style scoped>\n",
       "    .dataframe tbody tr th:only-of-type {\n",
       "        vertical-align: middle;\n",
       "    }\n",
       "\n",
       "    .dataframe tbody tr th {\n",
       "        vertical-align: top;\n",
       "    }\n",
       "\n",
       "    .dataframe thead th {\n",
       "        text-align: right;\n",
       "    }\n",
       "</style>\n",
       "<table border=\"1\" class=\"dataframe\">\n",
       "  <thead>\n",
       "    <tr style=\"text-align: right;\">\n",
       "      <th></th>\n",
       "      <th>userId</th>\n",
       "      <th>movieId</th>\n",
       "      <th>tag</th>\n",
       "      <th>timestamp</th>\n",
       "    </tr>\n",
       "  </thead>\n",
       "  <tbody>\n",
       "    <tr>\n",
       "      <th>0</th>\n",
       "      <td>18</td>\n",
       "      <td>4141</td>\n",
       "      <td>Mark Waters</td>\n",
       "      <td>2009-04-24 18:19:40</td>\n",
       "    </tr>\n",
       "    <tr>\n",
       "      <th>1</th>\n",
       "      <td>65</td>\n",
       "      <td>208</td>\n",
       "      <td>dark hero</td>\n",
       "      <td>2013-05-10 01:41:18</td>\n",
       "    </tr>\n",
       "    <tr>\n",
       "      <th>2</th>\n",
       "      <td>65</td>\n",
       "      <td>353</td>\n",
       "      <td>dark hero</td>\n",
       "      <td>2013-05-10 01:41:19</td>\n",
       "    </tr>\n",
       "    <tr>\n",
       "      <th>3</th>\n",
       "      <td>65</td>\n",
       "      <td>521</td>\n",
       "      <td>noir thriller</td>\n",
       "      <td>2013-05-10 01:39:43</td>\n",
       "    </tr>\n",
       "    <tr>\n",
       "      <th>4</th>\n",
       "      <td>65</td>\n",
       "      <td>592</td>\n",
       "      <td>dark hero</td>\n",
       "      <td>2013-05-10 01:41:18</td>\n",
       "    </tr>\n",
       "    <tr>\n",
       "      <th>...</th>\n",
       "      <td>...</td>\n",
       "      <td>...</td>\n",
       "      <td>...</td>\n",
       "      <td>...</td>\n",
       "    </tr>\n",
       "    <tr>\n",
       "      <th>465559</th>\n",
       "      <td>138446</td>\n",
       "      <td>55999</td>\n",
       "      <td>dragged</td>\n",
       "      <td>2013-01-23 23:29:32</td>\n",
       "    </tr>\n",
       "    <tr>\n",
       "      <th>465560</th>\n",
       "      <td>138446</td>\n",
       "      <td>55999</td>\n",
       "      <td>Jason Bateman</td>\n",
       "      <td>2013-01-23 23:29:38</td>\n",
       "    </tr>\n",
       "    <tr>\n",
       "      <th>465561</th>\n",
       "      <td>138446</td>\n",
       "      <td>55999</td>\n",
       "      <td>quirky</td>\n",
       "      <td>2013-01-23 23:29:38</td>\n",
       "    </tr>\n",
       "    <tr>\n",
       "      <th>465562</th>\n",
       "      <td>138446</td>\n",
       "      <td>55999</td>\n",
       "      <td>sad</td>\n",
       "      <td>2013-01-23 23:29:32</td>\n",
       "    </tr>\n",
       "    <tr>\n",
       "      <th>465563</th>\n",
       "      <td>138472</td>\n",
       "      <td>923</td>\n",
       "      <td>rise to power</td>\n",
       "      <td>2007-11-02 21:12:47</td>\n",
       "    </tr>\n",
       "  </tbody>\n",
       "</table>\n",
       "<p>465564 rows × 4 columns</p>\n",
       "</div>"
      ],
      "text/plain": [
       "        userId  movieId            tag            timestamp\n",
       "0           18     4141    Mark Waters  2009-04-24 18:19:40\n",
       "1           65      208      dark hero  2013-05-10 01:41:18\n",
       "2           65      353      dark hero  2013-05-10 01:41:19\n",
       "3           65      521  noir thriller  2013-05-10 01:39:43\n",
       "4           65      592      dark hero  2013-05-10 01:41:18\n",
       "...        ...      ...            ...                  ...\n",
       "465559  138446    55999        dragged  2013-01-23 23:29:32\n",
       "465560  138446    55999  Jason Bateman  2013-01-23 23:29:38\n",
       "465561  138446    55999         quirky  2013-01-23 23:29:38\n",
       "465562  138446    55999            sad  2013-01-23 23:29:32\n",
       "465563  138472      923  rise to power  2007-11-02 21:12:47\n",
       "\n",
       "[465564 rows x 4 columns]"
      ]
     },
     "execution_count": 7,
     "metadata": {},
     "output_type": "execute_result"
    }
   ],
   "source": [
    "tagsdf"
   ]
  },
  {
   "cell_type": "markdown",
   "id": "1967d167",
   "metadata": {},
   "source": [
    "### checking for null values and checking shape of data sets"
   ]
  },
  {
   "cell_type": "code",
   "execution_count": 8,
   "id": "16c6ee61",
   "metadata": {},
   "outputs": [
    {
     "data": {
      "text/plain": [
       "movieId  title  genres\n",
       "False    False  False     27278\n",
       "Name: count, dtype: int64"
      ]
     },
     "execution_count": 8,
     "metadata": {},
     "output_type": "execute_result"
    }
   ],
   "source": [
    "moviesdf.isnull().value_counts()"
   ]
  },
  {
   "cell_type": "code",
   "execution_count": 9,
   "id": "2bf23a2f",
   "metadata": {},
   "outputs": [
    {
     "data": {
      "text/plain": [
       "movieId  title  genres\n",
       "False    False  False     27278\n",
       "Name: count, dtype: int64"
      ]
     },
     "execution_count": 9,
     "metadata": {},
     "output_type": "execute_result"
    }
   ],
   "source": [
    "moviesdf.isna().value_counts()"
   ]
  },
  {
   "cell_type": "code",
   "execution_count": 10,
   "id": "1bd1380b",
   "metadata": {},
   "outputs": [
    {
     "data": {
      "text/plain": [
       "(465564, 4)"
      ]
     },
     "execution_count": 10,
     "metadata": {},
     "output_type": "execute_result"
    }
   ],
   "source": [
    "tagsdf.shape"
   ]
  },
  {
   "cell_type": "code",
   "execution_count": 11,
   "id": "7dc5cc18",
   "metadata": {},
   "outputs": [
    {
     "data": {
      "text/plain": [
       "userId  movieId  rating  timestamp\n",
       "False   False    False   False        1048575\n",
       "Name: count, dtype: int64"
      ]
     },
     "execution_count": 11,
     "metadata": {},
     "output_type": "execute_result"
    }
   ],
   "source": [
    "ratingdf.isnull().value_counts()"
   ]
  },
  {
   "cell_type": "code",
   "execution_count": 12,
   "id": "bc3e0934",
   "metadata": {},
   "outputs": [
    {
     "data": {
      "text/plain": [
       "userId  movieId  rating  timestamp\n",
       "False   False    False   False        1048575\n",
       "Name: count, dtype: int64"
      ]
     },
     "execution_count": 12,
     "metadata": {},
     "output_type": "execute_result"
    }
   ],
   "source": [
    "ratingdf.isna().value_counts()"
   ]
  },
  {
   "cell_type": "code",
   "execution_count": 13,
   "id": "ea4117db",
   "metadata": {},
   "outputs": [
    {
     "data": {
      "text/plain": [
       "(1048575, 4)"
      ]
     },
     "execution_count": 13,
     "metadata": {},
     "output_type": "execute_result"
    }
   ],
   "source": [
    "ratingdf.shape"
   ]
  },
  {
   "cell_type": "code",
   "execution_count": 14,
   "id": "d365b984",
   "metadata": {},
   "outputs": [
    {
     "data": {
      "text/plain": [
       "userId  movieId  tag    timestamp\n",
       "False   False    False  False        465548\n",
       "                 True   False            16\n",
       "Name: count, dtype: int64"
      ]
     },
     "execution_count": 14,
     "metadata": {},
     "output_type": "execute_result"
    }
   ],
   "source": [
    "tagsdf.isnull().value_counts()"
   ]
  },
  {
   "cell_type": "markdown",
   "id": "39bcf86c",
   "metadata": {},
   "source": [
    "### dropping null values"
   ]
  },
  {
   "cell_type": "code",
   "execution_count": 15,
   "id": "84d889da",
   "metadata": {},
   "outputs": [],
   "source": [
    "tagsdf=tagsdf.dropna()"
   ]
  },
  {
   "cell_type": "code",
   "execution_count": 16,
   "id": "61d6a8e6",
   "metadata": {},
   "outputs": [
    {
     "data": {
      "text/plain": [
       "userId  movieId  tag    timestamp\n",
       "False   False    False  False        465548\n",
       "Name: count, dtype: int64"
      ]
     },
     "execution_count": 16,
     "metadata": {},
     "output_type": "execute_result"
    }
   ],
   "source": [
    "tagsdf.isnull().value_counts()"
   ]
  },
  {
   "cell_type": "markdown",
   "id": "5b0b2f72",
   "metadata": {},
   "source": [
    "### checking for unique tags "
   ]
  },
  {
   "cell_type": "code",
   "execution_count": 17,
   "id": "4f2482b0",
   "metadata": {},
   "outputs": [
    {
     "data": {
      "text/plain": [
       "38643"
      ]
     },
     "execution_count": 17,
     "metadata": {},
     "output_type": "execute_result"
    }
   ],
   "source": [
    "uniquetags=tagsdf['tag'].unique().tolist()\n",
    "len(uniquetags)"
   ]
  },
  {
   "cell_type": "code",
   "execution_count": 18,
   "id": "21db66d8",
   "metadata": {},
   "outputs": [
    {
     "data": {
      "text/plain": [
       "movieId\n",
       "296      3498\n",
       "356      3476\n",
       "593      3247\n",
       "318      3216\n",
       "480      3129\n",
       "         ... \n",
       "5978        1\n",
       "5918        1\n",
       "5807        1\n",
       "8660        1\n",
       "65651       1\n",
       "Name: count, Length: 14026, dtype: int64"
      ]
     },
     "execution_count": 18,
     "metadata": {},
     "output_type": "execute_result"
    }
   ],
   "source": [
    "#getting total number of rating per movies\n",
    "ratingdf['movieId'].value_counts()"
   ]
  },
  {
   "cell_type": "code",
   "execution_count": 19,
   "id": "77e2e6e8",
   "metadata": {},
   "outputs": [
    {
     "data": {
      "text/plain": [
       "movieId\n",
       "False    27278\n",
       "Name: count, dtype: int64"
      ]
     },
     "execution_count": 19,
     "metadata": {},
     "output_type": "execute_result"
    }
   ],
   "source": [
    "#check for duplicate values\n",
    "moviesdf['movieId'].duplicated().value_counts()"
   ]
  },
  {
   "cell_type": "markdown",
   "id": "c5218abe",
   "metadata": {},
   "source": [
    "### adding random null values to datasets for data cleaning for making it more challenging(can be skipped)"
   ]
  },
  {
   "cell_type": "code",
   "execution_count": 20,
   "id": "c474fa4d",
   "metadata": {},
   "outputs": [
    {
     "name": "stdout",
     "output_type": "stream",
     "text": [
      "        movieId                               title  \\\n",
      "0           1.0                    Toy Story (1995)   \n",
      "1           2.0                      Jumanji (1995)   \n",
      "2           3.0             Grumpier Old Men (1995)   \n",
      "3           4.0            Waiting to Exhale (1995)   \n",
      "4           5.0  Father of the Bride Part II (1995)   \n",
      "...         ...                                 ...   \n",
      "27273  131254.0        Kein Bund für's Leben (2007)   \n",
      "27274  131256.0       Feuer, Eis & Dosenbier (2002)   \n",
      "27275  131258.0                  The Pirates (2014)   \n",
      "27276  131260.0                 Rentun Ruusu (2001)   \n",
      "27277  131262.0                    Innocence (2014)   \n",
      "\n",
      "                                            genres  \n",
      "0      Adventure|Animation|Children|Comedy|Fantasy  \n",
      "1                       Adventure|Children|Fantasy  \n",
      "2                                   Comedy|Romance  \n",
      "3                             Comedy|Drama|Romance  \n",
      "4                                           Comedy  \n",
      "...                                            ...  \n",
      "27273                                       Comedy  \n",
      "27274                                       Comedy  \n",
      "27275                                    Adventure  \n",
      "27276                           (no genres listed)  \n",
      "27277                     Adventure|Fantasy|Horror  \n",
      "\n",
      "[27278 rows x 3 columns]\n"
     ]
    }
   ],
   "source": [
    "probability_of_null = 0.0005\n",
    "mask = np.random.rand(len(moviesdf)) < probability_of_null\n",
    "moviesdf.loc[mask] = np.NaN\n",
    "print(moviesdf)"
   ]
  },
  {
   "cell_type": "code",
   "execution_count": 21,
   "id": "2e8329d7",
   "metadata": {},
   "outputs": [
    {
     "name": "stdout",
     "output_type": "stream",
     "text": [
      "         userId  movieId  rating         timestamp\n",
      "0             1        2     3.5  02-04-2005 23:53\n",
      "1             1       29     3.5  02-04-2005 23:31\n",
      "2             1       32     3.5  02-04-2005 23:33\n",
      "3             1       47     3.5  02-04-2005 23:32\n",
      "4             1       50     3.5  02-04-2005 23:29\n",
      "...         ...      ...     ...               ...\n",
      "1048570    7120      168     5.0  02-04-2007 19:44\n",
      "1048571    7120      253     4.0  02-04-2007 19:30\n",
      "1048572    7120      260     5.0  02-04-2007 19:27\n",
      "1048573    7120      261     4.0  02-04-2007 19:49\n",
      "1048574    7120      266     3.5  02-04-2007 19:34\n",
      "\n",
      "[1048575 rows x 4 columns]\n"
     ]
    }
   ],
   "source": [
    "probability_of_null = 0.0005\n",
    "c='rating'\n",
    "mask = np.random.rand(len(ratingdf)) < probability_of_null\n",
    "ratingdf.loc[mask,c] = np.NaN\n",
    "\n",
    "print(ratingdf)"
   ]
  },
  {
   "cell_type": "code",
   "execution_count": 22,
   "id": "565a2ee6",
   "metadata": {},
   "outputs": [],
   "source": [
    "#deleing timestamp section from ratings dataset as it is not relevenat \n",
    "del ratingdf['timestamp']"
   ]
  },
  {
   "cell_type": "code",
   "execution_count": 23,
   "id": "78c5ccd9",
   "metadata": {},
   "outputs": [],
   "source": [
    "#deleing timestamp and userId section from tags dataset as it is not relevenat \n",
    "tagsdf = tagsdf.drop(columns=['timestamp', 'userId'])"
   ]
  },
  {
   "cell_type": "code",
   "execution_count": 24,
   "id": "4dad46e9",
   "metadata": {},
   "outputs": [
    {
     "name": "stdout",
     "output_type": "stream",
     "text": [
      "         userId  movieId  rating\n",
      "0           1.0      2.0     3.5\n",
      "1           1.0     29.0     3.5\n",
      "2           1.0     32.0     3.5\n",
      "3           1.0     47.0     3.5\n",
      "4           1.0     50.0     3.5\n",
      "...         ...      ...     ...\n",
      "1048570  7120.0    168.0     5.0\n",
      "1048571  7120.0    253.0     4.0\n",
      "1048572  7120.0    260.0     5.0\n",
      "1048573  7120.0    261.0     4.0\n",
      "1048574  7120.0    266.0     3.5\n",
      "\n",
      "[1048575 rows x 3 columns]\n"
     ]
    }
   ],
   "source": [
    "probability_of_null = 0.005\n",
    "c='movieId', 'userId'\n",
    "mask = np.random.rand(len(ratingdf)) < probability_of_null\n",
    "ratingdf.loc[mask,c] = np.NaN\n",
    "\n",
    "print(ratingdf)"
   ]
  },
  {
   "cell_type": "markdown",
   "id": "7b12b5e3",
   "metadata": {},
   "source": [
    "### Checking for null values"
   ]
  },
  {
   "cell_type": "code",
   "execution_count": 25,
   "id": "8eb88fdc",
   "metadata": {},
   "outputs": [
    {
     "data": {
      "text/plain": [
       "movieId  title  genres\n",
       "False    False  False     27264\n",
       "True     True   True         14\n",
       "Name: count, dtype: int64"
      ]
     },
     "execution_count": 25,
     "metadata": {},
     "output_type": "execute_result"
    }
   ],
   "source": [
    "moviesdf.isnull().value_counts()"
   ]
  },
  {
   "cell_type": "code",
   "execution_count": 26,
   "id": "b379336f",
   "metadata": {},
   "outputs": [
    {
     "data": {
      "text/plain": [
       "userId  movieId  rating\n",
       "False   False    False     1042782\n",
       "True    True     False        5248\n",
       "False   False    True          543\n",
       "True    True     True            2\n",
       "Name: count, dtype: int64"
      ]
     },
     "execution_count": 26,
     "metadata": {},
     "output_type": "execute_result"
    }
   ],
   "source": [
    "ratingdf.isnull().value_counts()"
   ]
  },
  {
   "cell_type": "code",
   "execution_count": 27,
   "id": "cd3433cc",
   "metadata": {},
   "outputs": [
    {
     "data": {
      "text/plain": [
       "userId     5250\n",
       "movieId    5250\n",
       "rating      545\n",
       "dtype: int64"
      ]
     },
     "execution_count": 27,
     "metadata": {},
     "output_type": "execute_result"
    }
   ],
   "source": [
    "ratingdf.isnull().sum()"
   ]
  },
  {
   "cell_type": "code",
   "execution_count": 28,
   "id": "2c899968",
   "metadata": {},
   "outputs": [
    {
     "data": {
      "text/plain": [
       "movieId    14\n",
       "title      14\n",
       "genres     14\n",
       "dtype: int64"
      ]
     },
     "execution_count": 28,
     "metadata": {},
     "output_type": "execute_result"
    }
   ],
   "source": [
    "moviesdf.isnull().sum()"
   ]
  },
  {
   "cell_type": "markdown",
   "id": "34b78a10",
   "metadata": {},
   "source": [
    "### dropping null rows from movies dataset"
   ]
  },
  {
   "cell_type": "code",
   "execution_count": 29,
   "id": "deb894d9",
   "metadata": {},
   "outputs": [],
   "source": [
    "moviesdf.dropna(inplace=True)"
   ]
  },
  {
   "cell_type": "code",
   "execution_count": 30,
   "id": "a405c8bf",
   "metadata": {},
   "outputs": [
    {
     "data": {
      "text/plain": [
       "movieId    0\n",
       "title      0\n",
       "genres     0\n",
       "dtype: int64"
      ]
     },
     "execution_count": 30,
     "metadata": {},
     "output_type": "execute_result"
    }
   ],
   "source": [
    "moviesdf.isnull().sum()"
   ]
  },
  {
   "cell_type": "markdown",
   "id": "7082e1b3",
   "metadata": {},
   "source": [
    "### Making a list of movie Ids and filtering ratings of movies which are not in the list from rating dataset"
   ]
  },
  {
   "cell_type": "code",
   "execution_count": 31,
   "id": "1f22d47d",
   "metadata": {},
   "outputs": [],
   "source": [
    "movie_ids = moviesdf['movieId']\n",
    "filter_ratingdf = ratingdf[ratingdf['movieId'].isin(movie_ids)]"
   ]
  },
  {
   "cell_type": "code",
   "execution_count": 32,
   "id": "3a2e2499",
   "metadata": {},
   "outputs": [
    {
     "data": {
      "text/plain": [
       "userId  movieId  rating\n",
       "False   False    False     1042605\n",
       "                 True          543\n",
       "Name: count, dtype: int64"
      ]
     },
     "execution_count": 32,
     "metadata": {},
     "output_type": "execute_result"
    }
   ],
   "source": [
    "filter_ratingdf.isnull().value_counts()"
   ]
  },
  {
   "cell_type": "code",
   "execution_count": 33,
   "id": "482f98bb",
   "metadata": {},
   "outputs": [
    {
     "data": {
      "text/html": [
       "<div>\n",
       "<style scoped>\n",
       "    .dataframe tbody tr th:only-of-type {\n",
       "        vertical-align: middle;\n",
       "    }\n",
       "\n",
       "    .dataframe tbody tr th {\n",
       "        vertical-align: top;\n",
       "    }\n",
       "\n",
       "    .dataframe thead th {\n",
       "        text-align: right;\n",
       "    }\n",
       "</style>\n",
       "<table border=\"1\" class=\"dataframe\">\n",
       "  <thead>\n",
       "    <tr style=\"text-align: right;\">\n",
       "      <th></th>\n",
       "      <th>userId</th>\n",
       "      <th>movieId</th>\n",
       "      <th>rating</th>\n",
       "    </tr>\n",
       "  </thead>\n",
       "  <tbody>\n",
       "    <tr>\n",
       "      <th>0</th>\n",
       "      <td>1.0</td>\n",
       "      <td>2.0</td>\n",
       "      <td>3.5</td>\n",
       "    </tr>\n",
       "    <tr>\n",
       "      <th>1</th>\n",
       "      <td>1.0</td>\n",
       "      <td>29.0</td>\n",
       "      <td>3.5</td>\n",
       "    </tr>\n",
       "    <tr>\n",
       "      <th>2</th>\n",
       "      <td>1.0</td>\n",
       "      <td>32.0</td>\n",
       "      <td>3.5</td>\n",
       "    </tr>\n",
       "    <tr>\n",
       "      <th>3</th>\n",
       "      <td>1.0</td>\n",
       "      <td>47.0</td>\n",
       "      <td>3.5</td>\n",
       "    </tr>\n",
       "    <tr>\n",
       "      <th>4</th>\n",
       "      <td>1.0</td>\n",
       "      <td>50.0</td>\n",
       "      <td>3.5</td>\n",
       "    </tr>\n",
       "    <tr>\n",
       "      <th>...</th>\n",
       "      <td>...</td>\n",
       "      <td>...</td>\n",
       "      <td>...</td>\n",
       "    </tr>\n",
       "    <tr>\n",
       "      <th>1048570</th>\n",
       "      <td>7120.0</td>\n",
       "      <td>168.0</td>\n",
       "      <td>5.0</td>\n",
       "    </tr>\n",
       "    <tr>\n",
       "      <th>1048571</th>\n",
       "      <td>7120.0</td>\n",
       "      <td>253.0</td>\n",
       "      <td>4.0</td>\n",
       "    </tr>\n",
       "    <tr>\n",
       "      <th>1048572</th>\n",
       "      <td>7120.0</td>\n",
       "      <td>260.0</td>\n",
       "      <td>5.0</td>\n",
       "    </tr>\n",
       "    <tr>\n",
       "      <th>1048573</th>\n",
       "      <td>7120.0</td>\n",
       "      <td>261.0</td>\n",
       "      <td>4.0</td>\n",
       "    </tr>\n",
       "    <tr>\n",
       "      <th>1048574</th>\n",
       "      <td>7120.0</td>\n",
       "      <td>266.0</td>\n",
       "      <td>3.5</td>\n",
       "    </tr>\n",
       "  </tbody>\n",
       "</table>\n",
       "<p>1043148 rows × 3 columns</p>\n",
       "</div>"
      ],
      "text/plain": [
       "         userId  movieId  rating\n",
       "0           1.0      2.0     3.5\n",
       "1           1.0     29.0     3.5\n",
       "2           1.0     32.0     3.5\n",
       "3           1.0     47.0     3.5\n",
       "4           1.0     50.0     3.5\n",
       "...         ...      ...     ...\n",
       "1048570  7120.0    168.0     5.0\n",
       "1048571  7120.0    253.0     4.0\n",
       "1048572  7120.0    260.0     5.0\n",
       "1048573  7120.0    261.0     4.0\n",
       "1048574  7120.0    266.0     3.5\n",
       "\n",
       "[1043148 rows x 3 columns]"
      ]
     },
     "execution_count": 33,
     "metadata": {},
     "output_type": "execute_result"
    }
   ],
   "source": [
    "filter_ratingdf"
   ]
  },
  {
   "cell_type": "markdown",
   "id": "48ebf8c9",
   "metadata": {},
   "source": [
    "### Putting median value of rating per differnt movie in null rows of rating dataset"
   ]
  },
  {
   "cell_type": "code",
   "execution_count": 34,
   "id": "ee3a65a5",
   "metadata": {},
   "outputs": [],
   "source": [
    "movie_medians = filter_ratingdf.groupby('movieId')['rating'].median().to_dict()\n",
    "def fill_rating(row):\n",
    "  movie_id = row['movieId']\n",
    "  if pd.isnull(row['rating']):\n",
    "    row['rating'] = movie_medians.get(movie_id)\n",
    "  return row\n",
    "\n",
    "filter_ratingdf = filter_ratingdf.apply(fill_rating, axis=1)"
   ]
  },
  {
   "cell_type": "code",
   "execution_count": 35,
   "id": "376bb33d",
   "metadata": {},
   "outputs": [
    {
     "data": {
      "text/plain": [
       "userId  movieId  rating\n",
       "False   False    False     1043148\n",
       "Name: count, dtype: int64"
      ]
     },
     "execution_count": 35,
     "metadata": {},
     "output_type": "execute_result"
    }
   ],
   "source": [
    "filter_ratingdf.isnull().value_counts()"
   ]
  },
  {
   "cell_type": "code",
   "execution_count": 36,
   "id": "67f85d3e",
   "metadata": {},
   "outputs": [
    {
     "data": {
      "text/plain": [
       "Index([], dtype='int64')"
      ]
     },
     "execution_count": 36,
     "metadata": {},
     "output_type": "execute_result"
    }
   ],
   "source": [
    "#Getting index of null values if any\n",
    "filter_ratingdf[filter_ratingdf['rating'].isnull()].index"
   ]
  },
  {
   "cell_type": "markdown",
   "id": "902c8da0",
   "metadata": {},
   "source": [
    "### Checking for outliers using z-score and iqr"
   ]
  },
  {
   "cell_type": "code",
   "execution_count": 65,
   "id": "b99edce8",
   "metadata": {},
   "outputs": [
    {
     "name": "stdout",
     "output_type": "stream",
     "text": [
      "Empty DataFrame\n",
      "Columns: [movieId, rating]\n",
      "Index: []\n"
     ]
    }
   ],
   "source": [
    "zscore=(filter_ratingdf['rating']-filter_ratingdf['rating'].mean())/filter_ratingdf['rating'].std()\n",
    "t=3\n",
    "outliers=filter_ratingdf[zscore.abs()>t]\n",
    "print(outliers[['movieId','rating']])"
   ]
  },
  {
   "cell_type": "code",
   "execution_count": 38,
   "id": "ed6e1b46",
   "metadata": {},
   "outputs": [
    {
     "name": "stdout",
     "output_type": "stream",
     "text": [
      "Empty DataFrame\n",
      "Columns: [movieId, rating]\n",
      "Index: []\n"
     ]
    }
   ],
   "source": [
    "q1 = filter_ratingdf['rating'].quantile(0.25)\n",
    "q3 = filter_ratingdf['rating'].quantile(0.75)\n",
    "iqr = q3 - q1\n",
    "lbound = q1 - 1.5 * iqr\n",
    "ubound = q3 + 1.5 * iqr\n",
    "outlier = filter_ratingdf[(filter_ratingdf['rating'] < lbound) | (filter_ratingdf['rating'] > ubound)]\n",
    "print(outliers[['movieId', 'rating']])"
   ]
  },
  {
   "cell_type": "code",
   "execution_count": 39,
   "id": "da5ae3ab",
   "metadata": {},
   "outputs": [],
   "source": [
    "#checking of there is any rating below 0.5\n",
    "ratingdf.loc[ratingdf['rating'] < 0.5, 'rating'] = 0.5\n"
   ]
  },
  {
   "cell_type": "code",
   "execution_count": 40,
   "id": "9f642c4b",
   "metadata": {},
   "outputs": [],
   "source": [
    "#checking of there is any rating above 5\n",
    "ratingdf.loc[ratingdf['rating'] > 5, 'rating'] = 5"
   ]
  },
  {
   "cell_type": "code",
   "execution_count": 41,
   "id": "db729b95",
   "metadata": {},
   "outputs": [
    {
     "data": {
      "text/plain": [
       "genres\n",
       "Drama                                                  4518\n",
       "Comedy                                                 2294\n",
       "Documentary                                            1940\n",
       "Comedy|Drama                                           1263\n",
       "Drama|Romance                                          1075\n",
       "                                                       ... \n",
       "Action|Comedy|Crime|Western                               1\n",
       "Action|Fantasy|Sci-Fi|Thriller                            1\n",
       "Action|Drama|Fantasy|Horror|Mystery|Sci-Fi|Thriller       1\n",
       "Action|Drama|Fantasy|Romance                              1\n",
       "Animation|Children|Comedy|Western                         1\n",
       "Name: count, Length: 1342, dtype: int64"
      ]
     },
     "execution_count": 41,
     "metadata": {},
     "output_type": "execute_result"
    }
   ],
   "source": [
    "#counting differrnt genres\n",
    "moviesdf['genres'].value_counts()"
   ]
  },
  {
   "cell_type": "markdown",
   "id": "555e30ce",
   "metadata": {},
   "source": [
    "### making title string lowercase"
   ]
  },
  {
   "cell_type": "code",
   "execution_count": 42,
   "id": "558d2822",
   "metadata": {},
   "outputs": [],
   "source": [
    "moviesdf['title'] = moviesdf['title'].str.lower()"
   ]
  },
  {
   "cell_type": "code",
   "execution_count": 43,
   "id": "bdb3a1c2",
   "metadata": {},
   "outputs": [
    {
     "name": "stdout",
     "output_type": "stream",
     "text": [
      "         userId  movieId  rating\n",
      "0           1.0      2.0     3.5\n",
      "1           1.0     29.0     3.5\n",
      "2           1.0     32.0     3.5\n",
      "3           1.0     47.0     3.5\n",
      "4           1.0     50.0     3.5\n",
      "...         ...      ...     ...\n",
      "1048570  7120.0    168.0     5.0\n",
      "1048571  7120.0    253.0     4.0\n",
      "1048572  7120.0    260.0     5.0\n",
      "1048573  7120.0    261.0     4.0\n",
      "1048574  7120.0    266.0     3.5\n",
      "\n",
      "[1043148 rows x 3 columns]\n"
     ]
    }
   ],
   "source": [
    "print(filter_ratingdf)"
   ]
  },
  {
   "cell_type": "markdown",
   "id": "a61c2936",
   "metadata": {},
   "source": [
    "### seperating years from title"
   ]
  },
  {
   "cell_type": "code",
   "execution_count": 113,
   "id": "f4b062e8",
   "metadata": {},
   "outputs": [
    {
     "name": "stdout",
     "output_type": "stream",
     "text": [
      "0        1995\n",
      "1        1995\n",
      "2        1995\n",
      "3        1995\n",
      "4        1995\n",
      "         ... \n",
      "27273    2007\n",
      "27274    2002\n",
      "27275    2014\n",
      "27276    2001\n",
      "27277    2014\n",
      "Name: year, Length: 27264, dtype: object\n"
     ]
    }
   ],
   "source": [
    "moviesdf['year'] =moviesdf['title'].str.extract('.*\\\\((.*)\\\\).*',expand = True)\n",
    "print(moviesdf['year'])"
   ]
  },
  {
   "cell_type": "code",
   "execution_count": 114,
   "id": "a06ec7bd",
   "metadata": {},
   "outputs": [
    {
     "name": "stdout",
     "output_type": "stream",
     "text": [
      "[]\n"
     ]
    }
   ],
   "source": [
    "missing_year_movies = moviesdf[moviesdf['year'].isnull()]\n",
    "movie_ids = missing_year_movies['movieId'].tolist()\n",
    "print(movie_ids)"
   ]
  },
  {
   "cell_type": "markdown",
   "id": "5a11d708",
   "metadata": {},
   "source": [
    "### making a new dataset with both movies dataset and rating dataset"
   ]
  },
  {
   "cell_type": "code",
   "execution_count": 115,
   "id": "f82a76cf",
   "metadata": {},
   "outputs": [
    {
     "data": {
      "text/html": [
       "<div>\n",
       "<style scoped>\n",
       "    .dataframe tbody tr th:only-of-type {\n",
       "        vertical-align: middle;\n",
       "    }\n",
       "\n",
       "    .dataframe tbody tr th {\n",
       "        vertical-align: top;\n",
       "    }\n",
       "\n",
       "    .dataframe thead th {\n",
       "        text-align: right;\n",
       "    }\n",
       "</style>\n",
       "<table border=\"1\" class=\"dataframe\">\n",
       "  <thead>\n",
       "    <tr style=\"text-align: right;\">\n",
       "      <th></th>\n",
       "      <th>movieId</th>\n",
       "      <th>title</th>\n",
       "      <th>genres</th>\n",
       "      <th>year</th>\n",
       "      <th>userId</th>\n",
       "      <th>rating</th>\n",
       "    </tr>\n",
       "  </thead>\n",
       "  <tbody>\n",
       "    <tr>\n",
       "      <th>0</th>\n",
       "      <td>1.0</td>\n",
       "      <td>toy story (1995)</td>\n",
       "      <td>Adventure|Animation|Children|Comedy|Fantasy</td>\n",
       "      <td>1995</td>\n",
       "      <td>3.0</td>\n",
       "      <td>4.0</td>\n",
       "    </tr>\n",
       "    <tr>\n",
       "      <th>1</th>\n",
       "      <td>1.0</td>\n",
       "      <td>toy story (1995)</td>\n",
       "      <td>Adventure|Animation|Children|Comedy|Fantasy</td>\n",
       "      <td>1995</td>\n",
       "      <td>6.0</td>\n",
       "      <td>5.0</td>\n",
       "    </tr>\n",
       "    <tr>\n",
       "      <th>2</th>\n",
       "      <td>1.0</td>\n",
       "      <td>toy story (1995)</td>\n",
       "      <td>Adventure|Animation|Children|Comedy|Fantasy</td>\n",
       "      <td>1995</td>\n",
       "      <td>8.0</td>\n",
       "      <td>4.0</td>\n",
       "    </tr>\n",
       "    <tr>\n",
       "      <th>3</th>\n",
       "      <td>1.0</td>\n",
       "      <td>toy story (1995)</td>\n",
       "      <td>Adventure|Animation|Children|Comedy|Fantasy</td>\n",
       "      <td>1995</td>\n",
       "      <td>10.0</td>\n",
       "      <td>4.0</td>\n",
       "    </tr>\n",
       "    <tr>\n",
       "      <th>4</th>\n",
       "      <td>1.0</td>\n",
       "      <td>toy story (1995)</td>\n",
       "      <td>Adventure|Animation|Children|Comedy|Fantasy</td>\n",
       "      <td>1995</td>\n",
       "      <td>11.0</td>\n",
       "      <td>4.5</td>\n",
       "    </tr>\n",
       "    <tr>\n",
       "      <th>...</th>\n",
       "      <td>...</td>\n",
       "      <td>...</td>\n",
       "      <td>...</td>\n",
       "      <td>...</td>\n",
       "      <td>...</td>\n",
       "      <td>...</td>\n",
       "    </tr>\n",
       "    <tr>\n",
       "      <th>1043143</th>\n",
       "      <td>130219.0</td>\n",
       "      <td>the dark knight (2011)</td>\n",
       "      <td>Action|Crime|Drama|Thriller</td>\n",
       "      <td>2011</td>\n",
       "      <td>1339.0</td>\n",
       "      <td>4.5</td>\n",
       "    </tr>\n",
       "    <tr>\n",
       "      <th>1043144</th>\n",
       "      <td>130462.0</td>\n",
       "      <td>the boy (2015)</td>\n",
       "      <td>(no genres listed)</td>\n",
       "      <td>2015</td>\n",
       "      <td>5731.0</td>\n",
       "      <td>4.0</td>\n",
       "    </tr>\n",
       "    <tr>\n",
       "      <th>1043145</th>\n",
       "      <td>130490.0</td>\n",
       "      <td>insurgent (2015)</td>\n",
       "      <td>Action|Romance|Sci-Fi</td>\n",
       "      <td>2015</td>\n",
       "      <td>2423.0</td>\n",
       "      <td>1.0</td>\n",
       "    </tr>\n",
       "    <tr>\n",
       "      <th>1043146</th>\n",
       "      <td>130490.0</td>\n",
       "      <td>insurgent (2015)</td>\n",
       "      <td>Action|Romance|Sci-Fi</td>\n",
       "      <td>2015</td>\n",
       "      <td>3397.0</td>\n",
       "      <td>3.5</td>\n",
       "    </tr>\n",
       "    <tr>\n",
       "      <th>1043147</th>\n",
       "      <td>130642.0</td>\n",
       "      <td>backcountry (2014)</td>\n",
       "      <td>Drama|Horror|Thriller</td>\n",
       "      <td>2014</td>\n",
       "      <td>3858.0</td>\n",
       "      <td>3.0</td>\n",
       "    </tr>\n",
       "  </tbody>\n",
       "</table>\n",
       "<p>1043148 rows × 6 columns</p>\n",
       "</div>"
      ],
      "text/plain": [
       "          movieId                   title  \\\n",
       "0             1.0        toy story (1995)   \n",
       "1             1.0        toy story (1995)   \n",
       "2             1.0        toy story (1995)   \n",
       "3             1.0        toy story (1995)   \n",
       "4             1.0        toy story (1995)   \n",
       "...           ...                     ...   \n",
       "1043143  130219.0  the dark knight (2011)   \n",
       "1043144  130462.0          the boy (2015)   \n",
       "1043145  130490.0        insurgent (2015)   \n",
       "1043146  130490.0        insurgent (2015)   \n",
       "1043147  130642.0      backcountry (2014)   \n",
       "\n",
       "                                              genres  year  userId  rating  \n",
       "0        Adventure|Animation|Children|Comedy|Fantasy  1995     3.0     4.0  \n",
       "1        Adventure|Animation|Children|Comedy|Fantasy  1995     6.0     5.0  \n",
       "2        Adventure|Animation|Children|Comedy|Fantasy  1995     8.0     4.0  \n",
       "3        Adventure|Animation|Children|Comedy|Fantasy  1995    10.0     4.0  \n",
       "4        Adventure|Animation|Children|Comedy|Fantasy  1995    11.0     4.5  \n",
       "...                                              ...   ...     ...     ...  \n",
       "1043143                  Action|Crime|Drama|Thriller  2011  1339.0     4.5  \n",
       "1043144                           (no genres listed)  2015  5731.0     4.0  \n",
       "1043145                        Action|Romance|Sci-Fi  2015  2423.0     1.0  \n",
       "1043146                        Action|Romance|Sci-Fi  2015  3397.0     3.5  \n",
       "1043147                        Drama|Horror|Thriller  2014  3858.0     3.0  \n",
       "\n",
       "[1043148 rows x 6 columns]"
      ]
     },
     "execution_count": 115,
     "metadata": {},
     "output_type": "execute_result"
    }
   ],
   "source": [
    "moviesdf_ratingdf=moviesdf.merge(filter_ratingdf,on = 'movieId',how = 'inner')\n",
    "moviesdf_ratingdf"
   ]
  },
  {
   "cell_type": "code",
   "execution_count": 116,
   "id": "b5908c06",
   "metadata": {},
   "outputs": [
    {
     "data": {
      "text/html": [
       "<div>\n",
       "<style scoped>\n",
       "    .dataframe tbody tr th:only-of-type {\n",
       "        vertical-align: middle;\n",
       "    }\n",
       "\n",
       "    .dataframe tbody tr th {\n",
       "        vertical-align: top;\n",
       "    }\n",
       "\n",
       "    .dataframe thead th {\n",
       "        text-align: right;\n",
       "    }\n",
       "</style>\n",
       "<table border=\"1\" class=\"dataframe\">\n",
       "  <thead>\n",
       "    <tr style=\"text-align: right;\">\n",
       "      <th></th>\n",
       "      <th>movieId</th>\n",
       "      <th>title</th>\n",
       "      <th>genres</th>\n",
       "      <th>year</th>\n",
       "    </tr>\n",
       "  </thead>\n",
       "  <tbody>\n",
       "    <tr>\n",
       "      <th>3</th>\n",
       "      <td>4.0</td>\n",
       "      <td>waiting to exhale (1995)</td>\n",
       "      <td>Comedy|Drama|Romance</td>\n",
       "      <td>1995</td>\n",
       "    </tr>\n",
       "    <tr>\n",
       "      <th>10</th>\n",
       "      <td>11.0</td>\n",
       "      <td>american president, the (1995)</td>\n",
       "      <td>Comedy|Drama|Romance</td>\n",
       "      <td>1995</td>\n",
       "    </tr>\n",
       "    <tr>\n",
       "      <th>13</th>\n",
       "      <td>14.0</td>\n",
       "      <td>nixon (1995)</td>\n",
       "      <td>Drama</td>\n",
       "      <td>1995</td>\n",
       "    </tr>\n",
       "    <tr>\n",
       "      <th>15</th>\n",
       "      <td>16.0</td>\n",
       "      <td>casino (1995)</td>\n",
       "      <td>Crime|Drama</td>\n",
       "      <td>1995</td>\n",
       "    </tr>\n",
       "    <tr>\n",
       "      <th>16</th>\n",
       "      <td>17.0</td>\n",
       "      <td>sense and sensibility (1995)</td>\n",
       "      <td>Drama|Romance</td>\n",
       "      <td>1995</td>\n",
       "    </tr>\n",
       "    <tr>\n",
       "      <th>...</th>\n",
       "      <td>...</td>\n",
       "      <td>...</td>\n",
       "      <td>...</td>\n",
       "      <td>...</td>\n",
       "    </tr>\n",
       "    <tr>\n",
       "      <th>27256</th>\n",
       "      <td>131162.0</td>\n",
       "      <td>por un puñado de besos (2014)</td>\n",
       "      <td>Drama|Romance</td>\n",
       "      <td>2014</td>\n",
       "    </tr>\n",
       "    <tr>\n",
       "      <th>27259</th>\n",
       "      <td>131168.0</td>\n",
       "      <td>phoenix (2014)</td>\n",
       "      <td>Drama</td>\n",
       "      <td>2014</td>\n",
       "    </tr>\n",
       "    <tr>\n",
       "      <th>27262</th>\n",
       "      <td>131174.0</td>\n",
       "      <td>gentlemen (2014)</td>\n",
       "      <td>Drama|Romance|Thriller</td>\n",
       "      <td>2014</td>\n",
       "    </tr>\n",
       "    <tr>\n",
       "      <th>27263</th>\n",
       "      <td>131176.0</td>\n",
       "      <td>a second chance (2014)</td>\n",
       "      <td>Drama</td>\n",
       "      <td>2014</td>\n",
       "    </tr>\n",
       "    <tr>\n",
       "      <th>27267</th>\n",
       "      <td>131239.0</td>\n",
       "      <td>three quarter moon (2011)</td>\n",
       "      <td>Comedy|Drama</td>\n",
       "      <td>2011</td>\n",
       "    </tr>\n",
       "  </tbody>\n",
       "</table>\n",
       "<p>13339 rows × 4 columns</p>\n",
       "</div>"
      ],
      "text/plain": [
       "        movieId                           title                  genres  year\n",
       "3           4.0        waiting to exhale (1995)    Comedy|Drama|Romance  1995\n",
       "10         11.0  american president, the (1995)    Comedy|Drama|Romance  1995\n",
       "13         14.0                    nixon (1995)                   Drama  1995\n",
       "15         16.0                   casino (1995)             Crime|Drama  1995\n",
       "16         17.0    sense and sensibility (1995)           Drama|Romance  1995\n",
       "...         ...                             ...                     ...   ...\n",
       "27256  131162.0   por un puñado de besos (2014)           Drama|Romance  2014\n",
       "27259  131168.0                  phoenix (2014)                   Drama  2014\n",
       "27262  131174.0                gentlemen (2014)  Drama|Romance|Thriller  2014\n",
       "27263  131176.0          a second chance (2014)                   Drama  2014\n",
       "27267  131239.0       three quarter moon (2011)            Comedy|Drama  2011\n",
       "\n",
       "[13339 rows x 4 columns]"
      ]
     },
     "execution_count": 116,
     "metadata": {},
     "output_type": "execute_result"
    }
   ],
   "source": [
    "#checking how many movies have drama as their genre\n",
    "drama_movies=moviesdf['genres'].str.contains('Drama')\n",
    "moviesdf[drama_movies]"
   ]
  },
  {
   "cell_type": "markdown",
   "id": "d845e76c",
   "metadata": {},
   "source": [
    "### geting average rating per movie from overall rating"
   ]
  },
  {
   "cell_type": "code",
   "execution_count": 117,
   "id": "c2e0b3a9",
   "metadata": {},
   "outputs": [],
   "source": [
    "average_ratings = moviesdf_ratingdf.groupby('movieId')['rating'].mean().reset_index()\n",
    "moviesdf_ratingdf=pd.merge(moviesdf_ratingdf,average_ratings,on='movieId',how='left')\n"
   ]
  },
  {
   "cell_type": "code",
   "execution_count": 118,
   "id": "e4cffc73",
   "metadata": {},
   "outputs": [
    {
     "data": {
      "text/html": [
       "<div>\n",
       "<style scoped>\n",
       "    .dataframe tbody tr th:only-of-type {\n",
       "        vertical-align: middle;\n",
       "    }\n",
       "\n",
       "    .dataframe tbody tr th {\n",
       "        vertical-align: top;\n",
       "    }\n",
       "\n",
       "    .dataframe thead th {\n",
       "        text-align: right;\n",
       "    }\n",
       "</style>\n",
       "<table border=\"1\" class=\"dataframe\">\n",
       "  <thead>\n",
       "    <tr style=\"text-align: right;\">\n",
       "      <th></th>\n",
       "      <th>movieId</th>\n",
       "      <th>title</th>\n",
       "      <th>genres</th>\n",
       "      <th>year</th>\n",
       "      <th>userId</th>\n",
       "      <th>rating</th>\n",
       "      <th>avg_rating</th>\n",
       "    </tr>\n",
       "  </thead>\n",
       "  <tbody>\n",
       "    <tr>\n",
       "      <th>0</th>\n",
       "      <td>1.0</td>\n",
       "      <td>toy story (1995)</td>\n",
       "      <td>Adventure|Animation|Children|Comedy|Fantasy</td>\n",
       "      <td>1995</td>\n",
       "      <td>3.0</td>\n",
       "      <td>4.0</td>\n",
       "      <td>3.960383</td>\n",
       "    </tr>\n",
       "    <tr>\n",
       "      <th>1</th>\n",
       "      <td>1.0</td>\n",
       "      <td>toy story (1995)</td>\n",
       "      <td>Adventure|Animation|Children|Comedy|Fantasy</td>\n",
       "      <td>1995</td>\n",
       "      <td>6.0</td>\n",
       "      <td>5.0</td>\n",
       "      <td>3.960383</td>\n",
       "    </tr>\n",
       "    <tr>\n",
       "      <th>2</th>\n",
       "      <td>1.0</td>\n",
       "      <td>toy story (1995)</td>\n",
       "      <td>Adventure|Animation|Children|Comedy|Fantasy</td>\n",
       "      <td>1995</td>\n",
       "      <td>8.0</td>\n",
       "      <td>4.0</td>\n",
       "      <td>3.960383</td>\n",
       "    </tr>\n",
       "    <tr>\n",
       "      <th>3</th>\n",
       "      <td>1.0</td>\n",
       "      <td>toy story (1995)</td>\n",
       "      <td>Adventure|Animation|Children|Comedy|Fantasy</td>\n",
       "      <td>1995</td>\n",
       "      <td>10.0</td>\n",
       "      <td>4.0</td>\n",
       "      <td>3.960383</td>\n",
       "    </tr>\n",
       "    <tr>\n",
       "      <th>4</th>\n",
       "      <td>1.0</td>\n",
       "      <td>toy story (1995)</td>\n",
       "      <td>Adventure|Animation|Children|Comedy|Fantasy</td>\n",
       "      <td>1995</td>\n",
       "      <td>11.0</td>\n",
       "      <td>4.5</td>\n",
       "      <td>3.960383</td>\n",
       "    </tr>\n",
       "    <tr>\n",
       "      <th>...</th>\n",
       "      <td>...</td>\n",
       "      <td>...</td>\n",
       "      <td>...</td>\n",
       "      <td>...</td>\n",
       "      <td>...</td>\n",
       "      <td>...</td>\n",
       "      <td>...</td>\n",
       "    </tr>\n",
       "    <tr>\n",
       "      <th>1043143</th>\n",
       "      <td>130219.0</td>\n",
       "      <td>the dark knight (2011)</td>\n",
       "      <td>Action|Crime|Drama|Thriller</td>\n",
       "      <td>2011</td>\n",
       "      <td>1339.0</td>\n",
       "      <td>4.5</td>\n",
       "      <td>4.500000</td>\n",
       "    </tr>\n",
       "    <tr>\n",
       "      <th>1043144</th>\n",
       "      <td>130462.0</td>\n",
       "      <td>the boy (2015)</td>\n",
       "      <td>(no genres listed)</td>\n",
       "      <td>2015</td>\n",
       "      <td>5731.0</td>\n",
       "      <td>4.0</td>\n",
       "      <td>4.000000</td>\n",
       "    </tr>\n",
       "    <tr>\n",
       "      <th>1043145</th>\n",
       "      <td>130490.0</td>\n",
       "      <td>insurgent (2015)</td>\n",
       "      <td>Action|Romance|Sci-Fi</td>\n",
       "      <td>2015</td>\n",
       "      <td>2423.0</td>\n",
       "      <td>1.0</td>\n",
       "      <td>2.250000</td>\n",
       "    </tr>\n",
       "    <tr>\n",
       "      <th>1043146</th>\n",
       "      <td>130490.0</td>\n",
       "      <td>insurgent (2015)</td>\n",
       "      <td>Action|Romance|Sci-Fi</td>\n",
       "      <td>2015</td>\n",
       "      <td>3397.0</td>\n",
       "      <td>3.5</td>\n",
       "      <td>2.250000</td>\n",
       "    </tr>\n",
       "    <tr>\n",
       "      <th>1043147</th>\n",
       "      <td>130642.0</td>\n",
       "      <td>backcountry (2014)</td>\n",
       "      <td>Drama|Horror|Thriller</td>\n",
       "      <td>2014</td>\n",
       "      <td>3858.0</td>\n",
       "      <td>3.0</td>\n",
       "      <td>3.000000</td>\n",
       "    </tr>\n",
       "  </tbody>\n",
       "</table>\n",
       "<p>1043148 rows × 7 columns</p>\n",
       "</div>"
      ],
      "text/plain": [
       "          movieId                   title  \\\n",
       "0             1.0        toy story (1995)   \n",
       "1             1.0        toy story (1995)   \n",
       "2             1.0        toy story (1995)   \n",
       "3             1.0        toy story (1995)   \n",
       "4             1.0        toy story (1995)   \n",
       "...           ...                     ...   \n",
       "1043143  130219.0  the dark knight (2011)   \n",
       "1043144  130462.0          the boy (2015)   \n",
       "1043145  130490.0        insurgent (2015)   \n",
       "1043146  130490.0        insurgent (2015)   \n",
       "1043147  130642.0      backcountry (2014)   \n",
       "\n",
       "                                              genres  year  userId  rating  \\\n",
       "0        Adventure|Animation|Children|Comedy|Fantasy  1995     3.0     4.0   \n",
       "1        Adventure|Animation|Children|Comedy|Fantasy  1995     6.0     5.0   \n",
       "2        Adventure|Animation|Children|Comedy|Fantasy  1995     8.0     4.0   \n",
       "3        Adventure|Animation|Children|Comedy|Fantasy  1995    10.0     4.0   \n",
       "4        Adventure|Animation|Children|Comedy|Fantasy  1995    11.0     4.5   \n",
       "...                                              ...   ...     ...     ...   \n",
       "1043143                  Action|Crime|Drama|Thriller  2011  1339.0     4.5   \n",
       "1043144                           (no genres listed)  2015  5731.0     4.0   \n",
       "1043145                        Action|Romance|Sci-Fi  2015  2423.0     1.0   \n",
       "1043146                        Action|Romance|Sci-Fi  2015  3397.0     3.5   \n",
       "1043147                        Drama|Horror|Thriller  2014  3858.0     3.0   \n",
       "\n",
       "         avg_rating  \n",
       "0          3.960383  \n",
       "1          3.960383  \n",
       "2          3.960383  \n",
       "3          3.960383  \n",
       "4          3.960383  \n",
       "...             ...  \n",
       "1043143    4.500000  \n",
       "1043144    4.000000  \n",
       "1043145    2.250000  \n",
       "1043146    2.250000  \n",
       "1043147    3.000000  \n",
       "\n",
       "[1043148 rows x 7 columns]"
      ]
     },
     "execution_count": 118,
     "metadata": {},
     "output_type": "execute_result"
    }
   ],
   "source": [
    "#renaming columns \n",
    "moviesdf_ratingdf.rename(columns={'rating_x':'rating','rating_y':'avg_rating'},inplace=True)\n",
    "moviesdf_ratingdf"
   ]
  },
  {
   "cell_type": "markdown",
   "id": "8e129661",
   "metadata": {},
   "source": [
    "### getting how many users have rated the movie"
   ]
  },
  {
   "cell_type": "code",
   "execution_count": 119,
   "id": "532379e8",
   "metadata": {},
   "outputs": [],
   "source": [
    "average_ratings_count = moviesdf_ratingdf.groupby('movieId')['rating'].count().reset_index()\n",
    "moviesdf_ratingdf=pd.merge(moviesdf_ratingdf,average_ratings_count,on='movieId',how='left')"
   ]
  },
  {
   "cell_type": "code",
   "execution_count": 120,
   "id": "685ade4b",
   "metadata": {},
   "outputs": [
    {
     "data": {
      "text/html": [
       "<div>\n",
       "<style scoped>\n",
       "    .dataframe tbody tr th:only-of-type {\n",
       "        vertical-align: middle;\n",
       "    }\n",
       "\n",
       "    .dataframe tbody tr th {\n",
       "        vertical-align: top;\n",
       "    }\n",
       "\n",
       "    .dataframe thead th {\n",
       "        text-align: right;\n",
       "    }\n",
       "</style>\n",
       "<table border=\"1\" class=\"dataframe\">\n",
       "  <thead>\n",
       "    <tr style=\"text-align: right;\">\n",
       "      <th></th>\n",
       "      <th>movieId</th>\n",
       "      <th>rating</th>\n",
       "    </tr>\n",
       "  </thead>\n",
       "  <tbody>\n",
       "    <tr>\n",
       "      <th>0</th>\n",
       "      <td>1.0</td>\n",
       "      <td>2562</td>\n",
       "    </tr>\n",
       "    <tr>\n",
       "      <th>1</th>\n",
       "      <td>2.0</td>\n",
       "      <td>1152</td>\n",
       "    </tr>\n",
       "    <tr>\n",
       "      <th>2</th>\n",
       "      <td>3.0</td>\n",
       "      <td>684</td>\n",
       "    </tr>\n",
       "    <tr>\n",
       "      <th>3</th>\n",
       "      <td>4.0</td>\n",
       "      <td>138</td>\n",
       "    </tr>\n",
       "    <tr>\n",
       "      <th>4</th>\n",
       "      <td>5.0</td>\n",
       "      <td>654</td>\n",
       "    </tr>\n",
       "    <tr>\n",
       "      <th>...</th>\n",
       "      <td>...</td>\n",
       "      <td>...</td>\n",
       "    </tr>\n",
       "    <tr>\n",
       "      <th>13989</th>\n",
       "      <td>130073.0</td>\n",
       "      <td>1</td>\n",
       "    </tr>\n",
       "    <tr>\n",
       "      <th>13990</th>\n",
       "      <td>130219.0</td>\n",
       "      <td>1</td>\n",
       "    </tr>\n",
       "    <tr>\n",
       "      <th>13991</th>\n",
       "      <td>130462.0</td>\n",
       "      <td>1</td>\n",
       "    </tr>\n",
       "    <tr>\n",
       "      <th>13992</th>\n",
       "      <td>130490.0</td>\n",
       "      <td>2</td>\n",
       "    </tr>\n",
       "    <tr>\n",
       "      <th>13993</th>\n",
       "      <td>130642.0</td>\n",
       "      <td>1</td>\n",
       "    </tr>\n",
       "  </tbody>\n",
       "</table>\n",
       "<p>13994 rows × 2 columns</p>\n",
       "</div>"
      ],
      "text/plain": [
       "        movieId  rating\n",
       "0           1.0    2562\n",
       "1           2.0    1152\n",
       "2           3.0     684\n",
       "3           4.0     138\n",
       "4           5.0     654\n",
       "...         ...     ...\n",
       "13989  130073.0       1\n",
       "13990  130219.0       1\n",
       "13991  130462.0       1\n",
       "13992  130490.0       2\n",
       "13993  130642.0       1\n",
       "\n",
       "[13994 rows x 2 columns]"
      ]
     },
     "execution_count": 120,
     "metadata": {},
     "output_type": "execute_result"
    }
   ],
   "source": [
    "average_ratings_count"
   ]
  },
  {
   "cell_type": "code",
   "execution_count": 121,
   "id": "75053738",
   "metadata": {},
   "outputs": [
    {
     "data": {
      "text/html": [
       "<div>\n",
       "<style scoped>\n",
       "    .dataframe tbody tr th:only-of-type {\n",
       "        vertical-align: middle;\n",
       "    }\n",
       "\n",
       "    .dataframe tbody tr th {\n",
       "        vertical-align: top;\n",
       "    }\n",
       "\n",
       "    .dataframe thead th {\n",
       "        text-align: right;\n",
       "    }\n",
       "</style>\n",
       "<table border=\"1\" class=\"dataframe\">\n",
       "  <thead>\n",
       "    <tr style=\"text-align: right;\">\n",
       "      <th></th>\n",
       "      <th>movieId</th>\n",
       "      <th>title</th>\n",
       "      <th>genres</th>\n",
       "      <th>year</th>\n",
       "      <th>userId</th>\n",
       "      <th>rating</th>\n",
       "      <th>avg_rating</th>\n",
       "      <th>no.user_rating/movie</th>\n",
       "    </tr>\n",
       "  </thead>\n",
       "  <tbody>\n",
       "    <tr>\n",
       "      <th>0</th>\n",
       "      <td>1.0</td>\n",
       "      <td>toy story (1995)</td>\n",
       "      <td>Adventure|Animation|Children|Comedy|Fantasy</td>\n",
       "      <td>1995</td>\n",
       "      <td>3.0</td>\n",
       "      <td>4.0</td>\n",
       "      <td>3.960383</td>\n",
       "      <td>2562</td>\n",
       "    </tr>\n",
       "    <tr>\n",
       "      <th>1</th>\n",
       "      <td>1.0</td>\n",
       "      <td>toy story (1995)</td>\n",
       "      <td>Adventure|Animation|Children|Comedy|Fantasy</td>\n",
       "      <td>1995</td>\n",
       "      <td>6.0</td>\n",
       "      <td>5.0</td>\n",
       "      <td>3.960383</td>\n",
       "      <td>2562</td>\n",
       "    </tr>\n",
       "    <tr>\n",
       "      <th>2</th>\n",
       "      <td>1.0</td>\n",
       "      <td>toy story (1995)</td>\n",
       "      <td>Adventure|Animation|Children|Comedy|Fantasy</td>\n",
       "      <td>1995</td>\n",
       "      <td>8.0</td>\n",
       "      <td>4.0</td>\n",
       "      <td>3.960383</td>\n",
       "      <td>2562</td>\n",
       "    </tr>\n",
       "    <tr>\n",
       "      <th>3</th>\n",
       "      <td>1.0</td>\n",
       "      <td>toy story (1995)</td>\n",
       "      <td>Adventure|Animation|Children|Comedy|Fantasy</td>\n",
       "      <td>1995</td>\n",
       "      <td>10.0</td>\n",
       "      <td>4.0</td>\n",
       "      <td>3.960383</td>\n",
       "      <td>2562</td>\n",
       "    </tr>\n",
       "    <tr>\n",
       "      <th>4</th>\n",
       "      <td>1.0</td>\n",
       "      <td>toy story (1995)</td>\n",
       "      <td>Adventure|Animation|Children|Comedy|Fantasy</td>\n",
       "      <td>1995</td>\n",
       "      <td>11.0</td>\n",
       "      <td>4.5</td>\n",
       "      <td>3.960383</td>\n",
       "      <td>2562</td>\n",
       "    </tr>\n",
       "    <tr>\n",
       "      <th>...</th>\n",
       "      <td>...</td>\n",
       "      <td>...</td>\n",
       "      <td>...</td>\n",
       "      <td>...</td>\n",
       "      <td>...</td>\n",
       "      <td>...</td>\n",
       "      <td>...</td>\n",
       "      <td>...</td>\n",
       "    </tr>\n",
       "    <tr>\n",
       "      <th>1043143</th>\n",
       "      <td>130219.0</td>\n",
       "      <td>the dark knight (2011)</td>\n",
       "      <td>Action|Crime|Drama|Thriller</td>\n",
       "      <td>2011</td>\n",
       "      <td>1339.0</td>\n",
       "      <td>4.5</td>\n",
       "      <td>4.500000</td>\n",
       "      <td>1</td>\n",
       "    </tr>\n",
       "    <tr>\n",
       "      <th>1043144</th>\n",
       "      <td>130462.0</td>\n",
       "      <td>the boy (2015)</td>\n",
       "      <td>(no genres listed)</td>\n",
       "      <td>2015</td>\n",
       "      <td>5731.0</td>\n",
       "      <td>4.0</td>\n",
       "      <td>4.000000</td>\n",
       "      <td>1</td>\n",
       "    </tr>\n",
       "    <tr>\n",
       "      <th>1043145</th>\n",
       "      <td>130490.0</td>\n",
       "      <td>insurgent (2015)</td>\n",
       "      <td>Action|Romance|Sci-Fi</td>\n",
       "      <td>2015</td>\n",
       "      <td>2423.0</td>\n",
       "      <td>1.0</td>\n",
       "      <td>2.250000</td>\n",
       "      <td>2</td>\n",
       "    </tr>\n",
       "    <tr>\n",
       "      <th>1043146</th>\n",
       "      <td>130490.0</td>\n",
       "      <td>insurgent (2015)</td>\n",
       "      <td>Action|Romance|Sci-Fi</td>\n",
       "      <td>2015</td>\n",
       "      <td>3397.0</td>\n",
       "      <td>3.5</td>\n",
       "      <td>2.250000</td>\n",
       "      <td>2</td>\n",
       "    </tr>\n",
       "    <tr>\n",
       "      <th>1043147</th>\n",
       "      <td>130642.0</td>\n",
       "      <td>backcountry (2014)</td>\n",
       "      <td>Drama|Horror|Thriller</td>\n",
       "      <td>2014</td>\n",
       "      <td>3858.0</td>\n",
       "      <td>3.0</td>\n",
       "      <td>3.000000</td>\n",
       "      <td>1</td>\n",
       "    </tr>\n",
       "  </tbody>\n",
       "</table>\n",
       "<p>1043148 rows × 8 columns</p>\n",
       "</div>"
      ],
      "text/plain": [
       "          movieId                   title  \\\n",
       "0             1.0        toy story (1995)   \n",
       "1             1.0        toy story (1995)   \n",
       "2             1.0        toy story (1995)   \n",
       "3             1.0        toy story (1995)   \n",
       "4             1.0        toy story (1995)   \n",
       "...           ...                     ...   \n",
       "1043143  130219.0  the dark knight (2011)   \n",
       "1043144  130462.0          the boy (2015)   \n",
       "1043145  130490.0        insurgent (2015)   \n",
       "1043146  130490.0        insurgent (2015)   \n",
       "1043147  130642.0      backcountry (2014)   \n",
       "\n",
       "                                              genres  year  userId  rating  \\\n",
       "0        Adventure|Animation|Children|Comedy|Fantasy  1995     3.0     4.0   \n",
       "1        Adventure|Animation|Children|Comedy|Fantasy  1995     6.0     5.0   \n",
       "2        Adventure|Animation|Children|Comedy|Fantasy  1995     8.0     4.0   \n",
       "3        Adventure|Animation|Children|Comedy|Fantasy  1995    10.0     4.0   \n",
       "4        Adventure|Animation|Children|Comedy|Fantasy  1995    11.0     4.5   \n",
       "...                                              ...   ...     ...     ...   \n",
       "1043143                  Action|Crime|Drama|Thriller  2011  1339.0     4.5   \n",
       "1043144                           (no genres listed)  2015  5731.0     4.0   \n",
       "1043145                        Action|Romance|Sci-Fi  2015  2423.0     1.0   \n",
       "1043146                        Action|Romance|Sci-Fi  2015  3397.0     3.5   \n",
       "1043147                        Drama|Horror|Thriller  2014  3858.0     3.0   \n",
       "\n",
       "         avg_rating  no.user_rating/movie  \n",
       "0          3.960383                  2562  \n",
       "1          3.960383                  2562  \n",
       "2          3.960383                  2562  \n",
       "3          3.960383                  2562  \n",
       "4          3.960383                  2562  \n",
       "...             ...                   ...  \n",
       "1043143    4.500000                     1  \n",
       "1043144    4.000000                     1  \n",
       "1043145    2.250000                     2  \n",
       "1043146    2.250000                     2  \n",
       "1043147    3.000000                     1  \n",
       "\n",
       "[1043148 rows x 8 columns]"
      ]
     },
     "execution_count": 121,
     "metadata": {},
     "output_type": "execute_result"
    }
   ],
   "source": [
    "#renaming columns\n",
    "moviesdf_ratingdf.rename(columns={'rating_x':'rating','rating_y':'no.user_rating/movie'},inplace=True)\n",
    "moviesdf_ratingdf"
   ]
  },
  {
   "cell_type": "code",
   "execution_count": 122,
   "id": "04833205",
   "metadata": {},
   "outputs": [],
   "source": [
    "#deleting rating and user ID columns\n",
    "moviesdf_ratingdf = moviesdf_ratingdf.drop(columns=['rating', 'userId'])"
   ]
  },
  {
   "cell_type": "markdown",
   "id": "a85af8b5",
   "metadata": {},
   "source": [
    "### Dropping duplicate rows based on Movie Id"
   ]
  },
  {
   "cell_type": "code",
   "execution_count": 123,
   "id": "2280fd14",
   "metadata": {},
   "outputs": [
    {
     "name": "stdout",
     "output_type": "stream",
     "text": [
      "          movieId                               title  \\\n",
      "0             1.0                    toy story (1995)   \n",
      "2562          2.0                      jumanji (1995)   \n",
      "3714          3.0             grumpier old men (1995)   \n",
      "4398          4.0            waiting to exhale (1995)   \n",
      "4536          5.0  father of the bride part ii (1995)   \n",
      "...           ...                                 ...   \n",
      "1043142  130073.0                   cinderella (2015)   \n",
      "1043143  130219.0              the dark knight (2011)   \n",
      "1043144  130462.0                      the boy (2015)   \n",
      "1043145  130490.0                    insurgent (2015)   \n",
      "1043147  130642.0                  backcountry (2014)   \n",
      "\n",
      "                                              genres  year  avg_rating  \\\n",
      "0        Adventure|Animation|Children|Comedy|Fantasy  1995    3.960383   \n",
      "2562                      Adventure|Children|Fantasy  1995    3.269965   \n",
      "3714                                  Comedy|Romance  1995    3.182749   \n",
      "4398                            Comedy|Drama|Romance  1995    3.000000   \n",
      "4536                                          Comedy  1995    3.144495   \n",
      "...                                              ...   ...         ...   \n",
      "1043142              Adventure|Children|Drama|Sci-Fi  2015    2.500000   \n",
      "1043143                  Action|Crime|Drama|Thriller  2011    4.500000   \n",
      "1043144                           (no genres listed)  2015    4.000000   \n",
      "1043145                        Action|Romance|Sci-Fi  2015    2.250000   \n",
      "1043147                        Drama|Horror|Thriller  2014    3.000000   \n",
      "\n",
      "         no.user_rating/movie  \n",
      "0                        2562  \n",
      "2562                     1152  \n",
      "3714                      684  \n",
      "4398                      138  \n",
      "4536                      654  \n",
      "...                       ...  \n",
      "1043142                     1  \n",
      "1043143                     1  \n",
      "1043144                     1  \n",
      "1043145                     2  \n",
      "1043147                     1  \n",
      "\n",
      "[13994 rows x 6 columns]\n"
     ]
    }
   ],
   "source": [
    "moviesdf_ratingdf = moviesdf_ratingdf.drop_duplicates(subset='movieId', keep='first')\n",
    "print(moviesdf_ratingdf)"
   ]
  },
  {
   "cell_type": "markdown",
   "id": "4f765f88",
   "metadata": {},
   "source": [
    "### Contructing a column Named Popularity Based on formula (Rating x No_of_ratings)/200"
   ]
  },
  {
   "cell_type": "code",
   "execution_count": 124,
   "id": "a728b3eb",
   "metadata": {},
   "outputs": [
    {
     "name": "stdout",
     "output_type": "stream",
     "text": [
      "          movieId                               title  \\\n",
      "0             1.0                    toy story (1995)   \n",
      "2562          2.0                      jumanji (1995)   \n",
      "3714          3.0             grumpier old men (1995)   \n",
      "4398          4.0            waiting to exhale (1995)   \n",
      "4536          5.0  father of the bride part ii (1995)   \n",
      "...           ...                                 ...   \n",
      "1043142  130073.0                   cinderella (2015)   \n",
      "1043143  130219.0              the dark knight (2011)   \n",
      "1043144  130462.0                      the boy (2015)   \n",
      "1043145  130490.0                    insurgent (2015)   \n",
      "1043147  130642.0                  backcountry (2014)   \n",
      "\n",
      "                                              genres  year  avg_rating  \\\n",
      "0        Adventure|Animation|Children|Comedy|Fantasy  1995    3.960383   \n",
      "2562                      Adventure|Children|Fantasy  1995    3.269965   \n",
      "3714                                  Comedy|Romance  1995    3.182749   \n",
      "4398                            Comedy|Drama|Romance  1995    3.000000   \n",
      "4536                                          Comedy  1995    3.144495   \n",
      "...                                              ...   ...         ...   \n",
      "1043142              Adventure|Children|Drama|Sci-Fi  2015    2.500000   \n",
      "1043143                  Action|Crime|Drama|Thriller  2011    4.500000   \n",
      "1043144                           (no genres listed)  2015    4.000000   \n",
      "1043145                        Action|Romance|Sci-Fi  2015    2.250000   \n",
      "1043147                        Drama|Horror|Thriller  2014    3.000000   \n",
      "\n",
      "         no.user_rating/movie  popularity  \n",
      "0                        2562     50.7325  \n",
      "2562                     1152     18.8350  \n",
      "3714                      684     10.8850  \n",
      "4398                      138      2.0700  \n",
      "4536                      654     10.2825  \n",
      "...                       ...         ...  \n",
      "1043142                     1      0.0125  \n",
      "1043143                     1      0.0225  \n",
      "1043144                     1      0.0200  \n",
      "1043145                     2      0.0225  \n",
      "1043147                     1      0.0150  \n",
      "\n",
      "[13994 rows x 7 columns]\n"
     ]
    }
   ],
   "source": [
    "def popularity(rating, no_of_ratings):\n",
    "  popularity = (rating * no_of_ratings) / 200\n",
    "  return popularity\n",
    "moviesdf_ratingdf['popularity'] =moviesdf_ratingdf.apply(lambda row: popularity(row['avg_rating'], row['no.user_rating/movie']), axis=1)\n",
    "print(moviesdf_ratingdf)"
   ]
  },
  {
   "cell_type": "markdown",
   "id": "4d75b8d0",
   "metadata": {},
   "source": [
    "### getting descriptive statistics"
   ]
  },
  {
   "cell_type": "code",
   "execution_count": 125,
   "id": "9e1f4302",
   "metadata": {},
   "outputs": [
    {
     "data": {
      "text/html": [
       "<div>\n",
       "<style scoped>\n",
       "    .dataframe tbody tr th:only-of-type {\n",
       "        vertical-align: middle;\n",
       "    }\n",
       "\n",
       "    .dataframe tbody tr th {\n",
       "        vertical-align: top;\n",
       "    }\n",
       "\n",
       "    .dataframe thead th {\n",
       "        text-align: right;\n",
       "    }\n",
       "</style>\n",
       "<table border=\"1\" class=\"dataframe\">\n",
       "  <thead>\n",
       "    <tr style=\"text-align: right;\">\n",
       "      <th></th>\n",
       "      <th>avg_rating</th>\n",
       "      <th>no.user_rating/movie</th>\n",
       "      <th>popularity</th>\n",
       "    </tr>\n",
       "  </thead>\n",
       "  <tbody>\n",
       "    <tr>\n",
       "      <th>count</th>\n",
       "      <td>13994.000000</td>\n",
       "      <td>13994.000000</td>\n",
       "      <td>13994.000000</td>\n",
       "    </tr>\n",
       "    <tr>\n",
       "      <th>mean</th>\n",
       "      <td>3.216392</td>\n",
       "      <td>74.542518</td>\n",
       "      <td>1.315516</td>\n",
       "    </tr>\n",
       "    <tr>\n",
       "      <th>std</th>\n",
       "      <td>0.790597</td>\n",
       "      <td>217.313412</td>\n",
       "      <td>4.099943</td>\n",
       "    </tr>\n",
       "    <tr>\n",
       "      <th>min</th>\n",
       "      <td>0.500000</td>\n",
       "      <td>1.000000</td>\n",
       "      <td>0.002500</td>\n",
       "    </tr>\n",
       "    <tr>\n",
       "      <th>25%</th>\n",
       "      <td>2.833333</td>\n",
       "      <td>2.000000</td>\n",
       "      <td>0.035000</td>\n",
       "    </tr>\n",
       "    <tr>\n",
       "      <th>50%</th>\n",
       "      <td>3.363636</td>\n",
       "      <td>9.000000</td>\n",
       "      <td>0.140000</td>\n",
       "    </tr>\n",
       "    <tr>\n",
       "      <th>75%</th>\n",
       "      <td>3.750000</td>\n",
       "      <td>43.000000</td>\n",
       "      <td>0.697500</td>\n",
       "    </tr>\n",
       "    <tr>\n",
       "      <th>max</th>\n",
       "      <td>5.000000</td>\n",
       "      <td>3481.000000</td>\n",
       "      <td>72.290000</td>\n",
       "    </tr>\n",
       "  </tbody>\n",
       "</table>\n",
       "</div>"
      ],
      "text/plain": [
       "         avg_rating  no.user_rating/movie    popularity\n",
       "count  13994.000000          13994.000000  13994.000000\n",
       "mean       3.216392             74.542518      1.315516\n",
       "std        0.790597            217.313412      4.099943\n",
       "min        0.500000              1.000000      0.002500\n",
       "25%        2.833333              2.000000      0.035000\n",
       "50%        3.363636              9.000000      0.140000\n",
       "75%        3.750000             43.000000      0.697500\n",
       "max        5.000000           3481.000000     72.290000"
      ]
     },
     "execution_count": 125,
     "metadata": {},
     "output_type": "execute_result"
    }
   ],
   "source": [
    "moviesdf_ratingdf[['avg_rating','no.user_rating/movie','popularity']].describe()"
   ]
  },
  {
   "cell_type": "markdown",
   "id": "858a3def",
   "metadata": {},
   "source": [
    "### most 20 most rated titles/movies"
   ]
  },
  {
   "cell_type": "code",
   "execution_count": 126,
   "id": "48ebeea7",
   "metadata": {},
   "outputs": [
    {
     "data": {
      "text/html": [
       "<div>\n",
       "<style scoped>\n",
       "    .dataframe tbody tr th:only-of-type {\n",
       "        vertical-align: middle;\n",
       "    }\n",
       "\n",
       "    .dataframe tbody tr th {\n",
       "        vertical-align: top;\n",
       "    }\n",
       "\n",
       "    .dataframe thead th {\n",
       "        text-align: right;\n",
       "    }\n",
       "</style>\n",
       "<table border=\"1\" class=\"dataframe\">\n",
       "  <thead>\n",
       "    <tr style=\"text-align: right;\">\n",
       "      <th></th>\n",
       "      <th>title</th>\n",
       "      <th>no.user_rating/movie</th>\n",
       "    </tr>\n",
       "  </thead>\n",
       "  <tbody>\n",
       "    <tr>\n",
       "      <th>101473</th>\n",
       "      <td>pulp fiction (1994)</td>\n",
       "      <td>3481</td>\n",
       "    </tr>\n",
       "    <tr>\n",
       "      <th>128388</th>\n",
       "      <td>forrest gump (1994)</td>\n",
       "      <td>3459</td>\n",
       "    </tr>\n",
       "    <tr>\n",
       "      <th>208986</th>\n",
       "      <td>silence of the lambs, the (1991)</td>\n",
       "      <td>3230</td>\n",
       "    </tr>\n",
       "    <tr>\n",
       "      <th>111362</th>\n",
       "      <td>shawshank redemption, the (1994)</td>\n",
       "      <td>3201</td>\n",
       "    </tr>\n",
       "    <tr>\n",
       "      <th>167201</th>\n",
       "      <td>jurassic park (1993)</td>\n",
       "      <td>3111</td>\n",
       "    </tr>\n",
       "    <tr>\n",
       "      <th>88613</th>\n",
       "      <td>star wars: episode iv - a new hope (1977)</td>\n",
       "      <td>2859</td>\n",
       "    </tr>\n",
       "    <tr>\n",
       "      <th>43731</th>\n",
       "      <td>braveheart (1995)</td>\n",
       "      <td>2787</td>\n",
       "    </tr>\n",
       "    <tr>\n",
       "      <th>201615</th>\n",
       "      <td>terminator 2: judgment day (1991)</td>\n",
       "      <td>2703</td>\n",
       "    </tr>\n",
       "    <tr>\n",
       "      <th>578868</th>\n",
       "      <td>matrix, the (1999)</td>\n",
       "      <td>2689</td>\n",
       "    </tr>\n",
       "    <tr>\n",
       "      <th>181425</th>\n",
       "      <td>schindler's list (1993)</td>\n",
       "      <td>2579</td>\n",
       "    </tr>\n",
       "    <tr>\n",
       "      <th>0</th>\n",
       "      <td>toy story (1995)</td>\n",
       "      <td>2562</td>\n",
       "    </tr>\n",
       "    <tr>\n",
       "      <th>160518</th>\n",
       "      <td>fugitive, the (1993)</td>\n",
       "      <td>2551</td>\n",
       "    </tr>\n",
       "    <tr>\n",
       "      <th>242083</th>\n",
       "      <td>independence day (a.k.a. id4) (1996)</td>\n",
       "      <td>2525</td>\n",
       "    </tr>\n",
       "    <tr>\n",
       "      <th>52364</th>\n",
       "      <td>apollo 13 (1995)</td>\n",
       "      <td>2500</td>\n",
       "    </tr>\n",
       "    <tr>\n",
       "      <th>30352</th>\n",
       "      <td>usual suspects, the (1995)</td>\n",
       "      <td>2476</td>\n",
       "    </tr>\n",
       "    <tr>\n",
       "      <th>334976</th>\n",
       "      <td>star wars: episode vi - return of the jedi (1983)</td>\n",
       "      <td>2469</td>\n",
       "    </tr>\n",
       "    <tr>\n",
       "      <th>320707</th>\n",
       "      <td>star wars: episode v - the empire strikes back...</td>\n",
       "      <td>2406</td>\n",
       "    </tr>\n",
       "    <tr>\n",
       "      <th>206596</th>\n",
       "      <td>batman (1989)</td>\n",
       "      <td>2390</td>\n",
       "    </tr>\n",
       "    <tr>\n",
       "      <th>623009</th>\n",
       "      <td>american beauty (1999)</td>\n",
       "      <td>2344</td>\n",
       "    </tr>\n",
       "    <tr>\n",
       "      <th>19102</th>\n",
       "      <td>twelve monkeys (a.k.a. 12 monkeys) (1995)</td>\n",
       "      <td>2301</td>\n",
       "    </tr>\n",
       "  </tbody>\n",
       "</table>\n",
       "</div>"
      ],
      "text/plain": [
       "                                                    title  \\\n",
       "101473                                pulp fiction (1994)   \n",
       "128388                                forrest gump (1994)   \n",
       "208986                   silence of the lambs, the (1991)   \n",
       "111362                   shawshank redemption, the (1994)   \n",
       "167201                               jurassic park (1993)   \n",
       "88613           star wars: episode iv - a new hope (1977)   \n",
       "43731                                   braveheart (1995)   \n",
       "201615                  terminator 2: judgment day (1991)   \n",
       "578868                                 matrix, the (1999)   \n",
       "181425                            schindler's list (1993)   \n",
       "0                                        toy story (1995)   \n",
       "160518                               fugitive, the (1993)   \n",
       "242083               independence day (a.k.a. id4) (1996)   \n",
       "52364                                    apollo 13 (1995)   \n",
       "30352                          usual suspects, the (1995)   \n",
       "334976  star wars: episode vi - return of the jedi (1983)   \n",
       "320707  star wars: episode v - the empire strikes back...   \n",
       "206596                                      batman (1989)   \n",
       "623009                             american beauty (1999)   \n",
       "19102           twelve monkeys (a.k.a. 12 monkeys) (1995)   \n",
       "\n",
       "        no.user_rating/movie  \n",
       "101473                  3481  \n",
       "128388                  3459  \n",
       "208986                  3230  \n",
       "111362                  3201  \n",
       "167201                  3111  \n",
       "88613                   2859  \n",
       "43731                   2787  \n",
       "201615                  2703  \n",
       "578868                  2689  \n",
       "181425                  2579  \n",
       "0                       2562  \n",
       "160518                  2551  \n",
       "242083                  2525  \n",
       "52364                   2500  \n",
       "30352                   2476  \n",
       "334976                  2469  \n",
       "320707                  2406  \n",
       "206596                  2390  \n",
       "623009                  2344  \n",
       "19102                   2301  "
      ]
     },
     "execution_count": 126,
     "metadata": {},
     "output_type": "execute_result"
    }
   ],
   "source": [
    "most_rated=moviesdf_ratingdf.sort_values(by='no.user_rating/movie',ascending=False)[['title','no.user_rating/movie']][:20]\n",
    "most_rated\n"
   ]
  },
  {
   "cell_type": "markdown",
   "id": "778dad2f",
   "metadata": {},
   "source": [
    "### function for seperaing movie genre and counting them"
   ]
  },
  {
   "cell_type": "code",
   "execution_count": 127,
   "id": "2202a558",
   "metadata": {},
   "outputs": [],
   "source": [
    "def count_word(df, ref_col, liste):\n",
    "    keyword_count = dict()\n",
    "    for s in liste: keyword_count[s] = 0\n",
    "    for liste_keywords in df[ref_col].str.split('|'):\n",
    "        if type(liste_keywords) == float and pd.isnull(liste_keywords): continue\n",
    "        for s in liste_keywords: \n",
    "            if pd.notnull(s): keyword_count[s] += 1\n",
    "    keyword_occurences = []\n",
    "    for k,v in keyword_count.items():\n",
    "        keyword_occurences.append([k,v])\n",
    "    keyword_occurences.sort(key = lambda x:x[1], reverse = True)\n",
    "    return keyword_occurences, keyword_count"
   ]
  },
  {
   "cell_type": "code",
   "execution_count": 128,
   "id": "1a2cd18d",
   "metadata": {},
   "outputs": [],
   "source": [
    "genre_labels = set()\n",
    "for s in moviesdf['genres'].str.split('|').values:\n",
    "    genre_labels = genre_labels.union(set(s))"
   ]
  },
  {
   "cell_type": "markdown",
   "id": "fd96f728",
   "metadata": {},
   "source": [
    "### Getting Enteries per Genres"
   ]
  },
  {
   "cell_type": "code",
   "execution_count": 129,
   "id": "f4ec8dcb",
   "metadata": {},
   "outputs": [
    {
     "data": {
      "text/plain": [
       "[['Drama', 13339],\n",
       " ['Comedy', 8371],\n",
       " ['Thriller', 4177],\n",
       " ['Romance', 4126],\n",
       " ['Action', 3519],\n",
       " ['Crime', 2939],\n",
       " ['Horror', 2609],\n",
       " ['Documentary', 2469],\n",
       " ['Adventure', 2328],\n",
       " ['Sci-Fi', 1742],\n",
       " ['Mystery', 1513],\n",
       " ['Fantasy', 1411],\n",
       " ['War', 1194],\n",
       " ['Children', 1138],\n",
       " ['Musical', 1034],\n",
       " ['Animation', 1026],\n",
       " ['Western', 676],\n",
       " ['Film-Noir', 330],\n",
       " ['(no genres listed)', 246],\n",
       " ['IMAX', 196]]"
      ]
     },
     "execution_count": 129,
     "metadata": {},
     "output_type": "execute_result"
    }
   ],
   "source": [
    "keyword_occurences, dum = count_word(moviesdf, 'genres', genre_labels)\n",
    "keyword_occurences"
   ]
  },
  {
   "cell_type": "markdown",
   "id": "73a62344",
   "metadata": {},
   "source": [
    "### storing the data into new file for future use"
   ]
  },
  {
   "cell_type": "code",
   "execution_count": 134,
   "id": "b5e8943c",
   "metadata": {},
   "outputs": [],
   "source": [
    "moviesdf_ratingdf.to_csv(\"movies_with_ratings.csv\", index=False)"
   ]
  },
  {
   "cell_type": "code",
   "execution_count": 131,
   "id": "6d9e7172",
   "metadata": {},
   "outputs": [
    {
     "data": {
      "text/plain": [
       "movieId  title  genres  year   avg_rating  no.user_rating/movie  popularity\n",
       "False    False  False   False  False       False                 False         13994\n",
       "Name: count, dtype: int64"
      ]
     },
     "execution_count": 131,
     "metadata": {},
     "output_type": "execute_result"
    }
   ],
   "source": [
    "moviesdf_ratingdf.isnull().value_counts()"
   ]
  },
  {
   "cell_type": "markdown",
   "id": "1c6a22d4",
   "metadata": {},
   "source": [
    "### pivot chart for rating vs average rating to find any discrepancies"
   ]
  },
  {
   "cell_type": "code",
   "execution_count": 132,
   "id": "cf11b3ac",
   "metadata": {},
   "outputs": [
    {
     "data": {
      "text/html": [
       "<div>\n",
       "<style scoped>\n",
       "    .dataframe tbody tr th:only-of-type {\n",
       "        vertical-align: middle;\n",
       "    }\n",
       "\n",
       "    .dataframe tbody tr th {\n",
       "        vertical-align: top;\n",
       "    }\n",
       "\n",
       "    .dataframe thead th {\n",
       "        text-align: right;\n",
       "    }\n",
       "</style>\n",
       "<table border=\"1\" class=\"dataframe\">\n",
       "  <thead>\n",
       "    <tr style=\"text-align: right;\">\n",
       "      <th></th>\n",
       "      <th></th>\n",
       "      <th>avg_rating</th>\n",
       "    </tr>\n",
       "    <tr>\n",
       "      <th>movieId</th>\n",
       "      <th>popularity</th>\n",
       "      <th></th>\n",
       "    </tr>\n",
       "  </thead>\n",
       "  <tbody>\n",
       "    <tr>\n",
       "      <th>1.0</th>\n",
       "      <th>50.7325</th>\n",
       "      <td>3.960383</td>\n",
       "    </tr>\n",
       "    <tr>\n",
       "      <th>2.0</th>\n",
       "      <th>18.8350</th>\n",
       "      <td>3.269965</td>\n",
       "    </tr>\n",
       "    <tr>\n",
       "      <th>3.0</th>\n",
       "      <th>10.8850</th>\n",
       "      <td>3.182749</td>\n",
       "    </tr>\n",
       "    <tr>\n",
       "      <th>4.0</th>\n",
       "      <th>2.0700</th>\n",
       "      <td>3.000000</td>\n",
       "    </tr>\n",
       "    <tr>\n",
       "      <th>5.0</th>\n",
       "      <th>10.2825</th>\n",
       "      <td>3.144495</td>\n",
       "    </tr>\n",
       "    <tr>\n",
       "      <th>...</th>\n",
       "      <th>...</th>\n",
       "      <td>...</td>\n",
       "    </tr>\n",
       "    <tr>\n",
       "      <th>130073.0</th>\n",
       "      <th>0.0125</th>\n",
       "      <td>2.500000</td>\n",
       "    </tr>\n",
       "    <tr>\n",
       "      <th>130219.0</th>\n",
       "      <th>0.0225</th>\n",
       "      <td>4.500000</td>\n",
       "    </tr>\n",
       "    <tr>\n",
       "      <th>130462.0</th>\n",
       "      <th>0.0200</th>\n",
       "      <td>4.000000</td>\n",
       "    </tr>\n",
       "    <tr>\n",
       "      <th>130490.0</th>\n",
       "      <th>0.0225</th>\n",
       "      <td>2.250000</td>\n",
       "    </tr>\n",
       "    <tr>\n",
       "      <th>130642.0</th>\n",
       "      <th>0.0150</th>\n",
       "      <td>3.000000</td>\n",
       "    </tr>\n",
       "  </tbody>\n",
       "</table>\n",
       "<p>13994 rows × 1 columns</p>\n",
       "</div>"
      ],
      "text/plain": [
       "                     avg_rating\n",
       "movieId  popularity            \n",
       "1.0      50.7325       3.960383\n",
       "2.0      18.8350       3.269965\n",
       "3.0      10.8850       3.182749\n",
       "4.0      2.0700        3.000000\n",
       "5.0      10.2825       3.144495\n",
       "...                         ...\n",
       "130073.0 0.0125        2.500000\n",
       "130219.0 0.0225        4.500000\n",
       "130462.0 0.0200        4.000000\n",
       "130490.0 0.0225        2.250000\n",
       "130642.0 0.0150        3.000000\n",
       "\n",
       "[13994 rows x 1 columns]"
      ]
     },
     "execution_count": 132,
     "metadata": {},
     "output_type": "execute_result"
    }
   ],
   "source": [
    "pivot_table = moviesdf_ratingdf.pivot_table(\n",
    "    values='avg_rating', index=['movieId','popularity'], aggfunc='mean')\n",
    "pivot_table"
   ]
  },
  {
   "cell_type": "markdown",
   "id": "043052da",
   "metadata": {},
   "source": [
    "### Getting Top 4 Popular movies "
   ]
  },
  {
   "cell_type": "code",
   "execution_count": 133,
   "id": "cba8a765",
   "metadata": {},
   "outputs": [
    {
     "name": "stdout",
     "output_type": "stream",
     "text": [
      "        movieId                             title  \\\n",
      "101473    296.0               pulp fiction (1994)   \n",
      "111362    318.0  shawshank redemption, the (1994)   \n",
      "128388    356.0               forrest gump (1994)   \n",
      "208986    593.0  silence of the lambs, the (1991)   \n",
      "\n",
      "                             genres  year  avg_rating  no.user_rating/movie  \\\n",
      "101473  Comedy|Crime|Drama|Thriller  1994    4.153404                  3481   \n",
      "111362                  Crime|Drama  1994    4.469385                  3201   \n",
      "128388     Comedy|Drama|Romance|War  1994    4.054640                  3459   \n",
      "208986        Crime|Horror|Thriller  1991    4.184056                  3230   \n",
      "\n",
      "        popularity  \n",
      "101473     72.2900  \n",
      "111362     71.5325  \n",
      "128388     70.1250  \n",
      "208986     67.5725  \n"
     ]
    }
   ],
   "source": [
    "a=moviesdf_ratingdf['popularity']>60\n",
    "high_rated_movies = moviesdf_ratingdf[a]\n",
    "print(high_rated_movies)"
   ]
  }
 ],
 "metadata": {
  "kernelspec": {
   "display_name": "Python 3 (ipykernel)",
   "language": "python",
   "name": "python3"
  },
  "language_info": {
   "codemirror_mode": {
    "name": "ipython",
    "version": 3
   },
   "file_extension": ".py",
   "mimetype": "text/x-python",
   "name": "python",
   "nbconvert_exporter": "python",
   "pygments_lexer": "ipython3",
   "version": "3.12.3"
  }
 },
 "nbformat": 4,
 "nbformat_minor": 5
}
